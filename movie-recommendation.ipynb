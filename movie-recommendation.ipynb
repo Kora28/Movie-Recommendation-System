{
 "cells": [
  {
   "cell_type": "code",
   "execution_count": 1,
   "metadata": {
    "_cell_guid": "b1076dfc-b9ad-4769-8c92-a6c4dae69d19",
    "_uuid": "8f2839f25d086af736a60e9eeb907d3b93b6e0e5",
    "execution": {
     "iopub.execute_input": "2020-09-11T21:48:39.679258Z",
     "iopub.status.busy": "2020-09-11T21:48:39.678489Z",
     "iopub.status.idle": "2020-09-11T21:48:39.691118Z",
     "shell.execute_reply": "2020-09-11T21:48:39.690054Z"
    },
    "papermill": {
     "duration": 0.053418,
     "end_time": "2020-09-11T21:48:39.691299",
     "exception": false,
     "start_time": "2020-09-11T21:48:39.637881",
     "status": "completed"
    },
    "tags": []
   },
   "outputs": [
    {
     "name": "stdout",
     "output_type": "stream",
     "text": [
      "/kaggle/input/the-movies-dataset/links_small.csv\n",
      "/kaggle/input/the-movies-dataset/ratings.csv\n",
      "/kaggle/input/the-movies-dataset/links.csv\n",
      "/kaggle/input/the-movies-dataset/keywords.csv\n",
      "/kaggle/input/the-movies-dataset/movies_metadata.csv\n",
      "/kaggle/input/the-movies-dataset/credits.csv\n",
      "/kaggle/input/the-movies-dataset/ratings_small.csv\n"
     ]
    }
   ],
   "source": [
    "# This Python 3 environment comes with many helpful analytics libraries installed\n",
    "# It is defined by the kaggle/python Docker image: https://github.com/kaggle/docker-python\n",
    "# For example, here's several helpful packages to load\n",
    "\n",
    "import numpy as np # linear algebra\n",
    "import pandas as pd # data processing, CSV file I/O (e.g. pd.read_csv)\n",
    "\n",
    "# Input data files are available in the read-only \"../input/\" directory\n",
    "# For example, running this (by clicking run or pressing Shift+Enter) will list all files under the input directory\n",
    "\n",
    "import os\n",
    "for dirname, _, filenames in os.walk('/kaggle/input'):\n",
    "    for filename in filenames:\n",
    "        print(os.path.join(dirname, filename))\n",
    "\n",
    "# You can write up to 5GB to the current directory (/kaggle/working/) that gets preserved as output when you create a version using \"Save & Run All\" \n",
    "# You can also write temporary files to /kaggle/temp/, but they won't be saved outside of the current session"
   ]
  },
  {
   "cell_type": "code",
   "execution_count": 2,
   "metadata": {
    "_cell_guid": "79c7e3d0-c299-4dcb-8224-4455121ee9b0",
    "_uuid": "d629ff2d2480ee46fbb7e2d37f6b5fab8052498a",
    "execution": {
     "iopub.execute_input": "2020-09-11T21:48:39.761236Z",
     "iopub.status.busy": "2020-09-11T21:48:39.760581Z",
     "iopub.status.idle": "2020-09-11T21:48:41.911186Z",
     "shell.execute_reply": "2020-09-11T21:48:41.911736Z"
    },
    "papermill": {
     "duration": 2.188712,
     "end_time": "2020-09-11T21:48:41.911925",
     "exception": false,
     "start_time": "2020-09-11T21:48:39.723213",
     "status": "completed"
    },
    "tags": []
   },
   "outputs": [],
   "source": [
    "import matplotlib.pyplot as plt\n",
    "import seaborn as sns\n",
    "from sklearn.feature_extraction.text import TfidfVectorizer, CountVectorizer\n",
    "from sklearn.metrics.pairwise import linear_kernel, cosine_similarity\n",
    "from nltk.stem.snowball import SnowballStemmer\n",
    "from nltk.stem.wordnet import WordNetLemmatizer\n",
    "from nltk.corpus import wordnet\n",
    "from scipy import stats\n",
    "from ast import literal_eval\n",
    "\n",
    "from surprise import Reader, Dataset, SVD\n",
    "from surprise.model_selection import cross_validate\n",
    "import warnings; warnings.simplefilter('ignore')"
   ]
  },
  {
   "cell_type": "markdown",
   "metadata": {
    "papermill": {
     "duration": 0.029652,
     "end_time": "2020-09-11T21:48:41.972128",
     "exception": false,
     "start_time": "2020-09-11T21:48:41.942476",
     "status": "completed"
    },
    "tags": []
   },
   "source": [
    "# **SIMPLE RECOMMENDER/ Demographic Filtering**\n",
    "\n"
   ]
  },
  {
   "cell_type": "markdown",
   "metadata": {
    "papermill": {
     "duration": 0.029997,
     "end_time": "2020-09-11T21:48:42.032882",
     "exception": false,
     "start_time": "2020-09-11T21:48:42.002885",
     "status": "completed"
    },
    "tags": []
   },
   "source": [
    "This type of recommenders offers based on movie popularity and genre. This recommender does not give personalized recommendations based on the user history. All we have to do is sort our movies based on ratings and popularity and display the top movies of our list"
   ]
  },
  {
   "cell_type": "code",
   "execution_count": 3,
   "metadata": {
    "execution": {
     "iopub.execute_input": "2020-09-11T21:48:42.107737Z",
     "iopub.status.busy": "2020-09-11T21:48:42.106994Z",
     "iopub.status.idle": "2020-09-11T21:48:42.887426Z",
     "shell.execute_reply": "2020-09-11T21:48:42.886794Z"
    },
    "papermill": {
     "duration": 0.823256,
     "end_time": "2020-09-11T21:48:42.887549",
     "exception": false,
     "start_time": "2020-09-11T21:48:42.064293",
     "status": "completed"
    },
    "tags": []
   },
   "outputs": [
    {
     "data": {
      "text/html": [
       "<div>\n",
       "<style scoped>\n",
       "    .dataframe tbody tr th:only-of-type {\n",
       "        vertical-align: middle;\n",
       "    }\n",
       "\n",
       "    .dataframe tbody tr th {\n",
       "        vertical-align: top;\n",
       "    }\n",
       "\n",
       "    .dataframe thead th {\n",
       "        text-align: right;\n",
       "    }\n",
       "</style>\n",
       "<table border=\"1\" class=\"dataframe\">\n",
       "  <thead>\n",
       "    <tr style=\"text-align: right;\">\n",
       "      <th></th>\n",
       "      <th>adult</th>\n",
       "      <th>belongs_to_collection</th>\n",
       "      <th>budget</th>\n",
       "      <th>genres</th>\n",
       "      <th>homepage</th>\n",
       "      <th>id</th>\n",
       "      <th>imdb_id</th>\n",
       "      <th>original_language</th>\n",
       "      <th>original_title</th>\n",
       "      <th>overview</th>\n",
       "      <th>...</th>\n",
       "      <th>release_date</th>\n",
       "      <th>revenue</th>\n",
       "      <th>runtime</th>\n",
       "      <th>spoken_languages</th>\n",
       "      <th>status</th>\n",
       "      <th>tagline</th>\n",
       "      <th>title</th>\n",
       "      <th>video</th>\n",
       "      <th>vote_average</th>\n",
       "      <th>vote_count</th>\n",
       "    </tr>\n",
       "  </thead>\n",
       "  <tbody>\n",
       "    <tr>\n",
       "      <th>0</th>\n",
       "      <td>False</td>\n",
       "      <td>{'id': 10194, 'name': 'Toy Story Collection', ...</td>\n",
       "      <td>30000000</td>\n",
       "      <td>[{'id': 16, 'name': 'Animation'}, {'id': 35, '...</td>\n",
       "      <td>http://toystory.disney.com/toy-story</td>\n",
       "      <td>862</td>\n",
       "      <td>tt0114709</td>\n",
       "      <td>en</td>\n",
       "      <td>Toy Story</td>\n",
       "      <td>Led by Woody, Andy's toys live happily in his ...</td>\n",
       "      <td>...</td>\n",
       "      <td>1995-10-30</td>\n",
       "      <td>373554033.0</td>\n",
       "      <td>81.0</td>\n",
       "      <td>[{'iso_639_1': 'en', 'name': 'English'}]</td>\n",
       "      <td>Released</td>\n",
       "      <td>NaN</td>\n",
       "      <td>Toy Story</td>\n",
       "      <td>False</td>\n",
       "      <td>7.7</td>\n",
       "      <td>5415.0</td>\n",
       "    </tr>\n",
       "    <tr>\n",
       "      <th>1</th>\n",
       "      <td>False</td>\n",
       "      <td>NaN</td>\n",
       "      <td>65000000</td>\n",
       "      <td>[{'id': 12, 'name': 'Adventure'}, {'id': 14, '...</td>\n",
       "      <td>NaN</td>\n",
       "      <td>8844</td>\n",
       "      <td>tt0113497</td>\n",
       "      <td>en</td>\n",
       "      <td>Jumanji</td>\n",
       "      <td>When siblings Judy and Peter discover an encha...</td>\n",
       "      <td>...</td>\n",
       "      <td>1995-12-15</td>\n",
       "      <td>262797249.0</td>\n",
       "      <td>104.0</td>\n",
       "      <td>[{'iso_639_1': 'en', 'name': 'English'}, {'iso...</td>\n",
       "      <td>Released</td>\n",
       "      <td>Roll the dice and unleash the excitement!</td>\n",
       "      <td>Jumanji</td>\n",
       "      <td>False</td>\n",
       "      <td>6.9</td>\n",
       "      <td>2413.0</td>\n",
       "    </tr>\n",
       "    <tr>\n",
       "      <th>2</th>\n",
       "      <td>False</td>\n",
       "      <td>{'id': 119050, 'name': 'Grumpy Old Men Collect...</td>\n",
       "      <td>0</td>\n",
       "      <td>[{'id': 10749, 'name': 'Romance'}, {'id': 35, ...</td>\n",
       "      <td>NaN</td>\n",
       "      <td>15602</td>\n",
       "      <td>tt0113228</td>\n",
       "      <td>en</td>\n",
       "      <td>Grumpier Old Men</td>\n",
       "      <td>A family wedding reignites the ancient feud be...</td>\n",
       "      <td>...</td>\n",
       "      <td>1995-12-22</td>\n",
       "      <td>0.0</td>\n",
       "      <td>101.0</td>\n",
       "      <td>[{'iso_639_1': 'en', 'name': 'English'}]</td>\n",
       "      <td>Released</td>\n",
       "      <td>Still Yelling. Still Fighting. Still Ready for...</td>\n",
       "      <td>Grumpier Old Men</td>\n",
       "      <td>False</td>\n",
       "      <td>6.5</td>\n",
       "      <td>92.0</td>\n",
       "    </tr>\n",
       "    <tr>\n",
       "      <th>3</th>\n",
       "      <td>False</td>\n",
       "      <td>NaN</td>\n",
       "      <td>16000000</td>\n",
       "      <td>[{'id': 35, 'name': 'Comedy'}, {'id': 18, 'nam...</td>\n",
       "      <td>NaN</td>\n",
       "      <td>31357</td>\n",
       "      <td>tt0114885</td>\n",
       "      <td>en</td>\n",
       "      <td>Waiting to Exhale</td>\n",
       "      <td>Cheated on, mistreated and stepped on, the wom...</td>\n",
       "      <td>...</td>\n",
       "      <td>1995-12-22</td>\n",
       "      <td>81452156.0</td>\n",
       "      <td>127.0</td>\n",
       "      <td>[{'iso_639_1': 'en', 'name': 'English'}]</td>\n",
       "      <td>Released</td>\n",
       "      <td>Friends are the people who let you be yourself...</td>\n",
       "      <td>Waiting to Exhale</td>\n",
       "      <td>False</td>\n",
       "      <td>6.1</td>\n",
       "      <td>34.0</td>\n",
       "    </tr>\n",
       "    <tr>\n",
       "      <th>4</th>\n",
       "      <td>False</td>\n",
       "      <td>{'id': 96871, 'name': 'Father of the Bride Col...</td>\n",
       "      <td>0</td>\n",
       "      <td>[{'id': 35, 'name': 'Comedy'}]</td>\n",
       "      <td>NaN</td>\n",
       "      <td>11862</td>\n",
       "      <td>tt0113041</td>\n",
       "      <td>en</td>\n",
       "      <td>Father of the Bride Part II</td>\n",
       "      <td>Just when George Banks has recovered from his ...</td>\n",
       "      <td>...</td>\n",
       "      <td>1995-02-10</td>\n",
       "      <td>76578911.0</td>\n",
       "      <td>106.0</td>\n",
       "      <td>[{'iso_639_1': 'en', 'name': 'English'}]</td>\n",
       "      <td>Released</td>\n",
       "      <td>Just When His World Is Back To Normal... He's ...</td>\n",
       "      <td>Father of the Bride Part II</td>\n",
       "      <td>False</td>\n",
       "      <td>5.7</td>\n",
       "      <td>173.0</td>\n",
       "    </tr>\n",
       "  </tbody>\n",
       "</table>\n",
       "<p>5 rows × 24 columns</p>\n",
       "</div>"
      ],
      "text/plain": [
       "   adult                              belongs_to_collection    budget  \\\n",
       "0  False  {'id': 10194, 'name': 'Toy Story Collection', ...  30000000   \n",
       "1  False                                                NaN  65000000   \n",
       "2  False  {'id': 119050, 'name': 'Grumpy Old Men Collect...         0   \n",
       "3  False                                                NaN  16000000   \n",
       "4  False  {'id': 96871, 'name': 'Father of the Bride Col...         0   \n",
       "\n",
       "                                              genres  \\\n",
       "0  [{'id': 16, 'name': 'Animation'}, {'id': 35, '...   \n",
       "1  [{'id': 12, 'name': 'Adventure'}, {'id': 14, '...   \n",
       "2  [{'id': 10749, 'name': 'Romance'}, {'id': 35, ...   \n",
       "3  [{'id': 35, 'name': 'Comedy'}, {'id': 18, 'nam...   \n",
       "4                     [{'id': 35, 'name': 'Comedy'}]   \n",
       "\n",
       "                               homepage     id    imdb_id original_language  \\\n",
       "0  http://toystory.disney.com/toy-story    862  tt0114709                en   \n",
       "1                                   NaN   8844  tt0113497                en   \n",
       "2                                   NaN  15602  tt0113228                en   \n",
       "3                                   NaN  31357  tt0114885                en   \n",
       "4                                   NaN  11862  tt0113041                en   \n",
       "\n",
       "                original_title  \\\n",
       "0                    Toy Story   \n",
       "1                      Jumanji   \n",
       "2             Grumpier Old Men   \n",
       "3            Waiting to Exhale   \n",
       "4  Father of the Bride Part II   \n",
       "\n",
       "                                            overview  ... release_date  \\\n",
       "0  Led by Woody, Andy's toys live happily in his ...  ...   1995-10-30   \n",
       "1  When siblings Judy and Peter discover an encha...  ...   1995-12-15   \n",
       "2  A family wedding reignites the ancient feud be...  ...   1995-12-22   \n",
       "3  Cheated on, mistreated and stepped on, the wom...  ...   1995-12-22   \n",
       "4  Just when George Banks has recovered from his ...  ...   1995-02-10   \n",
       "\n",
       "       revenue runtime                                   spoken_languages  \\\n",
       "0  373554033.0    81.0           [{'iso_639_1': 'en', 'name': 'English'}]   \n",
       "1  262797249.0   104.0  [{'iso_639_1': 'en', 'name': 'English'}, {'iso...   \n",
       "2          0.0   101.0           [{'iso_639_1': 'en', 'name': 'English'}]   \n",
       "3   81452156.0   127.0           [{'iso_639_1': 'en', 'name': 'English'}]   \n",
       "4   76578911.0   106.0           [{'iso_639_1': 'en', 'name': 'English'}]   \n",
       "\n",
       "     status                                            tagline  \\\n",
       "0  Released                                                NaN   \n",
       "1  Released          Roll the dice and unleash the excitement!   \n",
       "2  Released  Still Yelling. Still Fighting. Still Ready for...   \n",
       "3  Released  Friends are the people who let you be yourself...   \n",
       "4  Released  Just When His World Is Back To Normal... He's ...   \n",
       "\n",
       "                         title  video vote_average vote_count  \n",
       "0                    Toy Story  False          7.7     5415.0  \n",
       "1                      Jumanji  False          6.9     2413.0  \n",
       "2             Grumpier Old Men  False          6.5       92.0  \n",
       "3            Waiting to Exhale  False          6.1       34.0  \n",
       "4  Father of the Bride Part II  False          5.7      173.0  \n",
       "\n",
       "[5 rows x 24 columns]"
      ]
     },
     "execution_count": 3,
     "metadata": {},
     "output_type": "execute_result"
    }
   ],
   "source": [
    "sr=pd.read_csv('/kaggle/input/the-movies-dataset/movies_metadata.csv')\n",
    "sr.head()"
   ]
  },
  {
   "cell_type": "code",
   "execution_count": 4,
   "metadata": {
    "execution": {
     "iopub.execute_input": "2020-09-11T21:48:42.953993Z",
     "iopub.status.busy": "2020-09-11T21:48:42.952904Z",
     "iopub.status.idle": "2020-09-11T21:48:42.957079Z",
     "shell.execute_reply": "2020-09-11T21:48:42.957604Z"
    },
    "papermill": {
     "duration": 0.040158,
     "end_time": "2020-09-11T21:48:42.957771",
     "exception": false,
     "start_time": "2020-09-11T21:48:42.917613",
     "status": "completed"
    },
    "tags": []
   },
   "outputs": [
    {
     "data": {
      "text/plain": [
       "(45466, 24)"
      ]
     },
     "execution_count": 4,
     "metadata": {},
     "output_type": "execute_result"
    }
   ],
   "source": [
    "sr.shape"
   ]
  },
  {
   "cell_type": "code",
   "execution_count": 5,
   "metadata": {
    "execution": {
     "iopub.execute_input": "2020-09-11T21:48:43.024155Z",
     "iopub.status.busy": "2020-09-11T21:48:43.023098Z",
     "iopub.status.idle": "2020-09-11T21:48:43.127119Z",
     "shell.execute_reply": "2020-09-11T21:48:43.126410Z"
    },
    "papermill": {
     "duration": 0.138344,
     "end_time": "2020-09-11T21:48:43.127239",
     "exception": false,
     "start_time": "2020-09-11T21:48:42.988895",
     "status": "completed"
    },
    "tags": []
   },
   "outputs": [
    {
     "data": {
      "text/plain": [
       "adult                        0\n",
       "belongs_to_collection    40972\n",
       "budget                       0\n",
       "genres                       0\n",
       "homepage                 37684\n",
       "id                           0\n",
       "imdb_id                     17\n",
       "original_language           11\n",
       "original_title               0\n",
       "overview                   954\n",
       "popularity                   5\n",
       "poster_path                386\n",
       "production_companies         3\n",
       "production_countries         3\n",
       "release_date                87\n",
       "revenue                      6\n",
       "runtime                    263\n",
       "spoken_languages             6\n",
       "status                      87\n",
       "tagline                  25054\n",
       "title                        6\n",
       "video                        6\n",
       "vote_average                 6\n",
       "vote_count                   6\n",
       "dtype: int64"
      ]
     },
     "execution_count": 5,
     "metadata": {},
     "output_type": "execute_result"
    }
   ],
   "source": [
    "np.sum(sr.isna())"
   ]
  },
  {
   "cell_type": "code",
   "execution_count": 6,
   "metadata": {
    "execution": {
     "iopub.execute_input": "2020-09-11T21:48:43.199191Z",
     "iopub.status.busy": "2020-09-11T21:48:43.198470Z",
     "iopub.status.idle": "2020-09-11T21:48:44.938752Z",
     "shell.execute_reply": "2020-09-11T21:48:44.939286Z"
    },
    "papermill": {
     "duration": 1.781196,
     "end_time": "2020-09-11T21:48:44.939481",
     "exception": false,
     "start_time": "2020-09-11T21:48:43.158285",
     "status": "completed"
    },
    "tags": []
   },
   "outputs": [],
   "source": [
    "sr['genres'] = sr['genres'].apply(literal_eval).apply(lambda x: [i['name'] for i in x] if isinstance(x, list) else [])\n",
    "sr = sr.drop([19730, 29503, 35587])"
   ]
  },
  {
   "cell_type": "markdown",
   "metadata": {
    "papermill": {
     "duration": 0.035612,
     "end_time": "2020-09-11T21:48:45.008871",
     "exception": false,
     "start_time": "2020-09-11T21:48:44.973259",
     "status": "completed"
    },
    "tags": []
   },
   "source": [
    "#  Use the Weighted Rating Formula"
   ]
  },
  {
   "cell_type": "markdown",
   "metadata": {
    "papermill": {
     "duration": 0.032842,
     "end_time": "2020-09-11T21:48:45.078108",
     "exception": false,
     "start_time": "2020-09-11T21:48:45.045266",
     "status": "completed"
    },
    "tags": []
   },
   "source": [
    "I will use IMDB's weighted rating formula to construct my chart. Mathematically, it is represented as follows:\n",
    "\n",
    "Weighted Rating (WR) =  (v/(v+m))*R   +   (m/(v+m))*C\n",
    "\n",
    "\n",
    "\n",
    "* v is the number of votes for the movie \n",
    "* m is the minimum votes required to be listed in the chart\n",
    "* R is the average rating of the movie\n",
    "* C is the mean vote across the whole report"
   ]
  },
  {
   "cell_type": "code",
   "execution_count": 7,
   "metadata": {
    "execution": {
     "iopub.execute_input": "2020-09-11T21:48:45.150085Z",
     "iopub.status.busy": "2020-09-11T21:48:45.149274Z",
     "iopub.status.idle": "2020-09-11T21:48:45.177247Z",
     "shell.execute_reply": "2020-09-11T21:48:45.176550Z"
    },
    "papermill": {
     "duration": 0.066577,
     "end_time": "2020-09-11T21:48:45.177384",
     "exception": false,
     "start_time": "2020-09-11T21:48:45.110807",
     "status": "completed"
    },
    "tags": []
   },
   "outputs": [
    {
     "data": {
      "text/plain": [
       "0        5415.0\n",
       "1        2413.0\n",
       "2          92.0\n",
       "3          34.0\n",
       "4         173.0\n",
       "          ...  \n",
       "45461       1.0\n",
       "45462       3.0\n",
       "45463       6.0\n",
       "45464       0.0\n",
       "45465       0.0\n",
       "Name: vote_count, Length: 45460, dtype: float64"
      ]
     },
     "execution_count": 7,
     "metadata": {},
     "output_type": "execute_result"
    }
   ],
   "source": [
    "#Number of votes for the movie\n",
    "number_votes=sr[sr['vote_count'].notnull()]['vote_count']\n",
    "number_votes"
   ]
  },
  {
   "cell_type": "code",
   "execution_count": 8,
   "metadata": {
    "execution": {
     "iopub.execute_input": "2020-09-11T21:48:45.250170Z",
     "iopub.status.busy": "2020-09-11T21:48:45.248949Z",
     "iopub.status.idle": "2020-09-11T21:48:45.275154Z",
     "shell.execute_reply": "2020-09-11T21:48:45.275684Z"
    },
    "papermill": {
     "duration": 0.066329,
     "end_time": "2020-09-11T21:48:45.275855",
     "exception": false,
     "start_time": "2020-09-11T21:48:45.209526",
     "status": "completed"
    },
    "tags": []
   },
   "outputs": [
    {
     "data": {
      "text/plain": [
       "0        7.7\n",
       "1        6.9\n",
       "2        6.5\n",
       "3        6.1\n",
       "4        5.7\n",
       "        ... \n",
       "45461    4.0\n",
       "45462    9.0\n",
       "45463    3.8\n",
       "45464    0.0\n",
       "45465    0.0\n",
       "Name: vote_average, Length: 45460, dtype: float64"
      ]
     },
     "execution_count": 8,
     "metadata": {},
     "output_type": "execute_result"
    }
   ],
   "source": [
    "#Average rating of the movie\n",
    "vote_average=sr[sr['vote_average'].notnull()]['vote_average']\n",
    "vote_average"
   ]
  },
  {
   "cell_type": "code",
   "execution_count": 9,
   "metadata": {
    "execution": {
     "iopub.execute_input": "2020-09-11T21:48:45.349185Z",
     "iopub.status.busy": "2020-09-11T21:48:45.348066Z",
     "iopub.status.idle": "2020-09-11T21:48:45.352755Z",
     "shell.execute_reply": "2020-09-11T21:48:45.352200Z"
    },
    "papermill": {
     "duration": 0.043702,
     "end_time": "2020-09-11T21:48:45.352869",
     "exception": false,
     "start_time": "2020-09-11T21:48:45.309167",
     "status": "completed"
    },
    "tags": []
   },
   "outputs": [
    {
     "data": {
      "text/plain": [
       "5.618207215133889"
      ]
     },
     "execution_count": 9,
     "metadata": {},
     "output_type": "execute_result"
    }
   ],
   "source": [
    "#Mean votes across the whole report\n",
    "C=np.mean(vote_average)\n",
    "C"
   ]
  },
  {
   "cell_type": "markdown",
   "metadata": {
    "papermill": {
     "duration": 0.033353,
     "end_time": "2020-09-11T21:48:45.418755",
     "exception": false,
     "start_time": "2020-09-11T21:48:45.385402",
     "status": "completed"
    },
    "tags": []
   },
   "source": [
    "The minimum votes required to be on the list can be defined by taking 90% percentile as our cutoff."
   ]
  },
  {
   "cell_type": "code",
   "execution_count": 10,
   "metadata": {
    "execution": {
     "iopub.execute_input": "2020-09-11T21:48:45.491399Z",
     "iopub.status.busy": "2020-09-11T21:48:45.490674Z",
     "iopub.status.idle": "2020-09-11T21:48:45.499704Z",
     "shell.execute_reply": "2020-09-11T21:48:45.499116Z"
    },
    "papermill": {
     "duration": 0.048144,
     "end_time": "2020-09-11T21:48:45.499829",
     "exception": false,
     "start_time": "2020-09-11T21:48:45.451685",
     "status": "completed"
    },
    "tags": []
   },
   "outputs": [
    {
     "data": {
      "text/plain": [
       "160.0"
      ]
     },
     "execution_count": 10,
     "metadata": {},
     "output_type": "execute_result"
    }
   ],
   "source": [
    "m=np.quantile(number_votes,0.9)\n",
    "m"
   ]
  },
  {
   "cell_type": "code",
   "execution_count": 11,
   "metadata": {
    "execution": {
     "iopub.execute_input": "2020-09-11T21:48:45.575559Z",
     "iopub.status.busy": "2020-09-11T21:48:45.574755Z",
     "iopub.status.idle": "2020-09-11T21:48:45.628660Z",
     "shell.execute_reply": "2020-09-11T21:48:45.629156Z"
    },
    "papermill": {
     "duration": 0.09565,
     "end_time": "2020-09-11T21:48:45.629339",
     "exception": false,
     "start_time": "2020-09-11T21:48:45.533689",
     "status": "completed"
    },
    "tags": []
   },
   "outputs": [
    {
     "data": {
      "text/html": [
       "<div>\n",
       "<style scoped>\n",
       "    .dataframe tbody tr th:only-of-type {\n",
       "        vertical-align: middle;\n",
       "    }\n",
       "\n",
       "    .dataframe tbody tr th {\n",
       "        vertical-align: top;\n",
       "    }\n",
       "\n",
       "    .dataframe thead th {\n",
       "        text-align: right;\n",
       "    }\n",
       "</style>\n",
       "<table border=\"1\" class=\"dataframe\">\n",
       "  <thead>\n",
       "    <tr style=\"text-align: right;\">\n",
       "      <th></th>\n",
       "      <th>title</th>\n",
       "      <th>popularity</th>\n",
       "      <th>genres</th>\n",
       "      <th>vote_count</th>\n",
       "      <th>vote_average</th>\n",
       "    </tr>\n",
       "  </thead>\n",
       "  <tbody>\n",
       "    <tr>\n",
       "      <th>0</th>\n",
       "      <td>Toy Story</td>\n",
       "      <td>21.9469</td>\n",
       "      <td>[Animation, Comedy, Family]</td>\n",
       "      <td>5415.0</td>\n",
       "      <td>7.7</td>\n",
       "    </tr>\n",
       "    <tr>\n",
       "      <th>1</th>\n",
       "      <td>Jumanji</td>\n",
       "      <td>17.0155</td>\n",
       "      <td>[Adventure, Fantasy, Family]</td>\n",
       "      <td>2413.0</td>\n",
       "      <td>6.9</td>\n",
       "    </tr>\n",
       "    <tr>\n",
       "      <th>4</th>\n",
       "      <td>Father of the Bride Part II</td>\n",
       "      <td>8.38752</td>\n",
       "      <td>[Comedy]</td>\n",
       "      <td>173.0</td>\n",
       "      <td>5.7</td>\n",
       "    </tr>\n",
       "    <tr>\n",
       "      <th>5</th>\n",
       "      <td>Heat</td>\n",
       "      <td>17.9249</td>\n",
       "      <td>[Action, Crime, Drama, Thriller]</td>\n",
       "      <td>1886.0</td>\n",
       "      <td>7.7</td>\n",
       "    </tr>\n",
       "    <tr>\n",
       "      <th>8</th>\n",
       "      <td>Sudden Death</td>\n",
       "      <td>5.23158</td>\n",
       "      <td>[Action, Adventure, Thriller]</td>\n",
       "      <td>174.0</td>\n",
       "      <td>5.5</td>\n",
       "    </tr>\n",
       "  </tbody>\n",
       "</table>\n",
       "</div>"
      ],
      "text/plain": [
       "                         title popularity                            genres  \\\n",
       "0                    Toy Story    21.9469       [Animation, Comedy, Family]   \n",
       "1                      Jumanji    17.0155      [Adventure, Fantasy, Family]   \n",
       "4  Father of the Bride Part II    8.38752                          [Comedy]   \n",
       "5                         Heat    17.9249  [Action, Crime, Drama, Thriller]   \n",
       "8                 Sudden Death    5.23158     [Action, Adventure, Thriller]   \n",
       "\n",
       "   vote_count  vote_average  \n",
       "0      5415.0           7.7  \n",
       "1      2413.0           6.9  \n",
       "4       173.0           5.7  \n",
       "5      1886.0           7.7  \n",
       "8       174.0           5.5  "
      ]
     },
     "execution_count": 11,
     "metadata": {},
     "output_type": "execute_result"
    }
   ],
   "source": [
    "Reduced_movies=sr[(sr['vote_count']>m) & (sr['vote_count'].notnull())][['title','popularity','genres','vote_count','vote_average']]\n",
    "Reduced_movies.head()"
   ]
  },
  {
   "cell_type": "code",
   "execution_count": 12,
   "metadata": {
    "execution": {
     "iopub.execute_input": "2020-09-11T21:48:45.702378Z",
     "iopub.status.busy": "2020-09-11T21:48:45.701704Z",
     "iopub.status.idle": "2020-09-11T21:48:45.714346Z",
     "shell.execute_reply": "2020-09-11T21:48:45.715122Z"
    },
    "papermill": {
     "duration": 0.052087,
     "end_time": "2020-09-11T21:48:45.715297",
     "exception": false,
     "start_time": "2020-09-11T21:48:45.663210",
     "status": "completed"
    },
    "tags": []
   },
   "outputs": [
    {
     "data": {
      "text/plain": [
       "title           0\n",
       "popularity      0\n",
       "genres          0\n",
       "vote_count      0\n",
       "vote_average    0\n",
       "dtype: int64"
      ]
     },
     "execution_count": 12,
     "metadata": {},
     "output_type": "execute_result"
    }
   ],
   "source": [
    "np.sum(Reduced_movies.isna())\n",
    "#There is no null values in the final data set"
   ]
  },
  {
   "cell_type": "code",
   "execution_count": 13,
   "metadata": {
    "execution": {
     "iopub.execute_input": "2020-09-11T21:48:45.794400Z",
     "iopub.status.busy": "2020-09-11T21:48:45.793357Z",
     "iopub.status.idle": "2020-09-11T21:48:45.814775Z",
     "shell.execute_reply": "2020-09-11T21:48:45.814106Z"
    },
    "papermill": {
     "duration": 0.060683,
     "end_time": "2020-09-11T21:48:45.814889",
     "exception": false,
     "start_time": "2020-09-11T21:48:45.754206",
     "status": "completed"
    },
    "tags": []
   },
   "outputs": [
    {
     "data": {
      "text/html": [
       "<div>\n",
       "<style scoped>\n",
       "    .dataframe tbody tr th:only-of-type {\n",
       "        vertical-align: middle;\n",
       "    }\n",
       "\n",
       "    .dataframe tbody tr th {\n",
       "        vertical-align: top;\n",
       "    }\n",
       "\n",
       "    .dataframe thead th {\n",
       "        text-align: right;\n",
       "    }\n",
       "</style>\n",
       "<table border=\"1\" class=\"dataframe\">\n",
       "  <thead>\n",
       "    <tr style=\"text-align: right;\">\n",
       "      <th></th>\n",
       "      <th>title</th>\n",
       "      <th>popularity</th>\n",
       "      <th>genres</th>\n",
       "      <th>vote_count</th>\n",
       "      <th>vote_average</th>\n",
       "      <th>Weighted_rating</th>\n",
       "    </tr>\n",
       "  </thead>\n",
       "  <tbody>\n",
       "    <tr>\n",
       "      <th>0</th>\n",
       "      <td>Toy Story</td>\n",
       "      <td>21.9469</td>\n",
       "      <td>[Animation, Comedy, Family]</td>\n",
       "      <td>5415.0</td>\n",
       "      <td>7.7</td>\n",
       "      <td>7.640253</td>\n",
       "    </tr>\n",
       "    <tr>\n",
       "      <th>1</th>\n",
       "      <td>Jumanji</td>\n",
       "      <td>17.0155</td>\n",
       "      <td>[Adventure, Fantasy, Family]</td>\n",
       "      <td>2413.0</td>\n",
       "      <td>6.9</td>\n",
       "      <td>6.820293</td>\n",
       "    </tr>\n",
       "    <tr>\n",
       "      <th>4</th>\n",
       "      <td>Father of the Bride Part II</td>\n",
       "      <td>8.38752</td>\n",
       "      <td>[Comedy]</td>\n",
       "      <td>173.0</td>\n",
       "      <td>5.7</td>\n",
       "      <td>5.660700</td>\n",
       "    </tr>\n",
       "    <tr>\n",
       "      <th>5</th>\n",
       "      <td>Heat</td>\n",
       "      <td>17.9249</td>\n",
       "      <td>[Action, Crime, Drama, Thriller]</td>\n",
       "      <td>1886.0</td>\n",
       "      <td>7.7</td>\n",
       "      <td>7.537201</td>\n",
       "    </tr>\n",
       "    <tr>\n",
       "      <th>8</th>\n",
       "      <td>Sudden Death</td>\n",
       "      <td>5.23158</td>\n",
       "      <td>[Action, Adventure, Thriller]</td>\n",
       "      <td>174.0</td>\n",
       "      <td>5.5</td>\n",
       "      <td>5.556626</td>\n",
       "    </tr>\n",
       "  </tbody>\n",
       "</table>\n",
       "</div>"
      ],
      "text/plain": [
       "                         title popularity                            genres  \\\n",
       "0                    Toy Story    21.9469       [Animation, Comedy, Family]   \n",
       "1                      Jumanji    17.0155      [Adventure, Fantasy, Family]   \n",
       "4  Father of the Bride Part II    8.38752                          [Comedy]   \n",
       "5                         Heat    17.9249  [Action, Crime, Drama, Thriller]   \n",
       "8                 Sudden Death    5.23158     [Action, Adventure, Thriller]   \n",
       "\n",
       "   vote_count  vote_average  Weighted_rating  \n",
       "0      5415.0           7.7         7.640253  \n",
       "1      2413.0           6.9         6.820293  \n",
       "4       173.0           5.7         5.660700  \n",
       "5      1886.0           7.7         7.537201  \n",
       "8       174.0           5.5         5.556626  "
      ]
     },
     "execution_count": 13,
     "metadata": {},
     "output_type": "execute_result"
    }
   ],
   "source": [
    "Reduced_movies['Weighted_rating'] = (Reduced_movies['vote_count']/(Reduced_movies['vote_count']+m))*Reduced_movies['vote_average'] + (m/(Reduced_movies['vote_count']+m))*C\n",
    "Reduced_movies.head()"
   ]
  },
  {
   "cell_type": "code",
   "execution_count": 14,
   "metadata": {
    "execution": {
     "iopub.execute_input": "2020-09-11T21:48:45.897086Z",
     "iopub.status.busy": "2020-09-11T21:48:45.896063Z",
     "iopub.status.idle": "2020-09-11T21:48:45.922501Z",
     "shell.execute_reply": "2020-09-11T21:48:45.922987Z"
    },
    "papermill": {
     "duration": 0.070877,
     "end_time": "2020-09-11T21:48:45.923152",
     "exception": false,
     "start_time": "2020-09-11T21:48:45.852275",
     "status": "completed"
    },
    "tags": []
   },
   "outputs": [
    {
     "data": {
      "text/html": [
       "<div>\n",
       "<style scoped>\n",
       "    .dataframe tbody tr th:only-of-type {\n",
       "        vertical-align: middle;\n",
       "    }\n",
       "\n",
       "    .dataframe tbody tr th {\n",
       "        vertical-align: top;\n",
       "    }\n",
       "\n",
       "    .dataframe thead th {\n",
       "        text-align: right;\n",
       "    }\n",
       "</style>\n",
       "<table border=\"1\" class=\"dataframe\">\n",
       "  <thead>\n",
       "    <tr style=\"text-align: right;\">\n",
       "      <th></th>\n",
       "      <th>title</th>\n",
       "      <th>popularity</th>\n",
       "      <th>genres</th>\n",
       "      <th>vote_count</th>\n",
       "      <th>vote_average</th>\n",
       "      <th>Weighted_rating</th>\n",
       "    </tr>\n",
       "  </thead>\n",
       "  <tbody>\n",
       "    <tr>\n",
       "      <th>314</th>\n",
       "      <td>The Shawshank Redemption</td>\n",
       "      <td>51.6454</td>\n",
       "      <td>[Drama, Crime]</td>\n",
       "      <td>8358.0</td>\n",
       "      <td>8.5</td>\n",
       "      <td>8.445869</td>\n",
       "    </tr>\n",
       "    <tr>\n",
       "      <th>834</th>\n",
       "      <td>The Godfather</td>\n",
       "      <td>41.1093</td>\n",
       "      <td>[Drama, Crime]</td>\n",
       "      <td>6024.0</td>\n",
       "      <td>8.5</td>\n",
       "      <td>8.425439</td>\n",
       "    </tr>\n",
       "    <tr>\n",
       "      <th>10309</th>\n",
       "      <td>Dilwale Dulhania Le Jayenge</td>\n",
       "      <td>34.457</td>\n",
       "      <td>[Comedy, Drama, Romance]</td>\n",
       "      <td>661.0</td>\n",
       "      <td>9.1</td>\n",
       "      <td>8.421453</td>\n",
       "    </tr>\n",
       "    <tr>\n",
       "      <th>12481</th>\n",
       "      <td>The Dark Knight</td>\n",
       "      <td>123.167</td>\n",
       "      <td>[Drama, Action, Crime, Thriller]</td>\n",
       "      <td>12269.0</td>\n",
       "      <td>8.3</td>\n",
       "      <td>8.265477</td>\n",
       "    </tr>\n",
       "    <tr>\n",
       "      <th>2843</th>\n",
       "      <td>Fight Club</td>\n",
       "      <td>63.8696</td>\n",
       "      <td>[Drama]</td>\n",
       "      <td>9678.0</td>\n",
       "      <td>8.3</td>\n",
       "      <td>8.256385</td>\n",
       "    </tr>\n",
       "    <tr>\n",
       "      <th>292</th>\n",
       "      <td>Pulp Fiction</td>\n",
       "      <td>140.95</td>\n",
       "      <td>[Thriller, Crime]</td>\n",
       "      <td>8670.0</td>\n",
       "      <td>8.3</td>\n",
       "      <td>8.251406</td>\n",
       "    </tr>\n",
       "    <tr>\n",
       "      <th>522</th>\n",
       "      <td>Schindler's List</td>\n",
       "      <td>41.7251</td>\n",
       "      <td>[Drama, History, War]</td>\n",
       "      <td>4436.0</td>\n",
       "      <td>8.3</td>\n",
       "      <td>8.206639</td>\n",
       "    </tr>\n",
       "    <tr>\n",
       "      <th>23673</th>\n",
       "      <td>Whiplash</td>\n",
       "      <td>64.3</td>\n",
       "      <td>[Drama]</td>\n",
       "      <td>4376.0</td>\n",
       "      <td>8.3</td>\n",
       "      <td>8.205404</td>\n",
       "    </tr>\n",
       "    <tr>\n",
       "      <th>5481</th>\n",
       "      <td>Spirited Away</td>\n",
       "      <td>41.0489</td>\n",
       "      <td>[Fantasy, Adventure, Animation, Family]</td>\n",
       "      <td>3968.0</td>\n",
       "      <td>8.3</td>\n",
       "      <td>8.196055</td>\n",
       "    </tr>\n",
       "    <tr>\n",
       "      <th>2211</th>\n",
       "      <td>Life Is Beautiful</td>\n",
       "      <td>39.395</td>\n",
       "      <td>[Comedy, Drama]</td>\n",
       "      <td>3643.0</td>\n",
       "      <td>8.3</td>\n",
       "      <td>8.187171</td>\n",
       "    </tr>\n",
       "    <tr>\n",
       "      <th>1178</th>\n",
       "      <td>The Godfather: Part II</td>\n",
       "      <td>36.6293</td>\n",
       "      <td>[Drama, Crime]</td>\n",
       "      <td>3418.0</td>\n",
       "      <td>8.3</td>\n",
       "      <td>8.180076</td>\n",
       "    </tr>\n",
       "    <tr>\n",
       "      <th>1152</th>\n",
       "      <td>One Flew Over the Cuckoo's Nest</td>\n",
       "      <td>35.5296</td>\n",
       "      <td>[Drama]</td>\n",
       "      <td>3001.0</td>\n",
       "      <td>8.3</td>\n",
       "      <td>8.164256</td>\n",
       "    </tr>\n",
       "    <tr>\n",
       "      <th>351</th>\n",
       "      <td>Forrest Gump</td>\n",
       "      <td>48.3072</td>\n",
       "      <td>[Comedy, Drama, Romance]</td>\n",
       "      <td>8147.0</td>\n",
       "      <td>8.2</td>\n",
       "      <td>8.150272</td>\n",
       "    </tr>\n",
       "    <tr>\n",
       "      <th>1154</th>\n",
       "      <td>The Empire Strikes Back</td>\n",
       "      <td>19.471</td>\n",
       "      <td>[Adventure, Action, Science Fiction]</td>\n",
       "      <td>5998.0</td>\n",
       "      <td>8.2</td>\n",
       "      <td>8.132919</td>\n",
       "    </tr>\n",
       "    <tr>\n",
       "      <th>1176</th>\n",
       "      <td>Psycho</td>\n",
       "      <td>36.8263</td>\n",
       "      <td>[Drama, Horror, Thriller]</td>\n",
       "      <td>2405.0</td>\n",
       "      <td>8.3</td>\n",
       "      <td>8.132715</td>\n",
       "    </tr>\n",
       "    <tr>\n",
       "      <th>18465</th>\n",
       "      <td>The Intouchables</td>\n",
       "      <td>16.0869</td>\n",
       "      <td>[Drama, Comedy]</td>\n",
       "      <td>5410.0</td>\n",
       "      <td>8.2</td>\n",
       "      <td>8.125837</td>\n",
       "    </tr>\n",
       "    <tr>\n",
       "      <th>40251</th>\n",
       "      <td>Your Name.</td>\n",
       "      <td>34.461252</td>\n",
       "      <td>[Romance, Animation, Drama]</td>\n",
       "      <td>1030.0</td>\n",
       "      <td>8.5</td>\n",
       "      <td>8.112532</td>\n",
       "    </tr>\n",
       "    <tr>\n",
       "      <th>289</th>\n",
       "      <td>Leon: The Professional</td>\n",
       "      <td>20.4773</td>\n",
       "      <td>[Thriller, Crime, Drama]</td>\n",
       "      <td>4293.0</td>\n",
       "      <td>8.2</td>\n",
       "      <td>8.107234</td>\n",
       "    </tr>\n",
       "    <tr>\n",
       "      <th>3030</th>\n",
       "      <td>The Green Mile</td>\n",
       "      <td>19.9668</td>\n",
       "      <td>[Fantasy, Drama, Crime]</td>\n",
       "      <td>4166.0</td>\n",
       "      <td>8.2</td>\n",
       "      <td>8.104511</td>\n",
       "    </tr>\n",
       "    <tr>\n",
       "      <th>1170</th>\n",
       "      <td>GoodFellas</td>\n",
       "      <td>15.4241</td>\n",
       "      <td>[Drama, Crime]</td>\n",
       "      <td>3211.0</td>\n",
       "      <td>8.2</td>\n",
       "      <td>8.077459</td>\n",
       "    </tr>\n",
       "  </tbody>\n",
       "</table>\n",
       "</div>"
      ],
      "text/plain": [
       "                                 title popularity  \\\n",
       "314           The Shawshank Redemption    51.6454   \n",
       "834                      The Godfather    41.1093   \n",
       "10309      Dilwale Dulhania Le Jayenge     34.457   \n",
       "12481                  The Dark Knight    123.167   \n",
       "2843                        Fight Club    63.8696   \n",
       "292                       Pulp Fiction     140.95   \n",
       "522                   Schindler's List    41.7251   \n",
       "23673                         Whiplash       64.3   \n",
       "5481                     Spirited Away    41.0489   \n",
       "2211                 Life Is Beautiful     39.395   \n",
       "1178            The Godfather: Part II    36.6293   \n",
       "1152   One Flew Over the Cuckoo's Nest    35.5296   \n",
       "351                       Forrest Gump    48.3072   \n",
       "1154           The Empire Strikes Back     19.471   \n",
       "1176                            Psycho    36.8263   \n",
       "18465                 The Intouchables    16.0869   \n",
       "40251                       Your Name.  34.461252   \n",
       "289             Leon: The Professional    20.4773   \n",
       "3030                    The Green Mile    19.9668   \n",
       "1170                        GoodFellas    15.4241   \n",
       "\n",
       "                                        genres  vote_count  vote_average  \\\n",
       "314                             [Drama, Crime]      8358.0           8.5   \n",
       "834                             [Drama, Crime]      6024.0           8.5   \n",
       "10309                 [Comedy, Drama, Romance]       661.0           9.1   \n",
       "12481         [Drama, Action, Crime, Thriller]     12269.0           8.3   \n",
       "2843                                   [Drama]      9678.0           8.3   \n",
       "292                          [Thriller, Crime]      8670.0           8.3   \n",
       "522                      [Drama, History, War]      4436.0           8.3   \n",
       "23673                                  [Drama]      4376.0           8.3   \n",
       "5481   [Fantasy, Adventure, Animation, Family]      3968.0           8.3   \n",
       "2211                           [Comedy, Drama]      3643.0           8.3   \n",
       "1178                            [Drama, Crime]      3418.0           8.3   \n",
       "1152                                   [Drama]      3001.0           8.3   \n",
       "351                   [Comedy, Drama, Romance]      8147.0           8.2   \n",
       "1154      [Adventure, Action, Science Fiction]      5998.0           8.2   \n",
       "1176                 [Drama, Horror, Thriller]      2405.0           8.3   \n",
       "18465                          [Drama, Comedy]      5410.0           8.2   \n",
       "40251              [Romance, Animation, Drama]      1030.0           8.5   \n",
       "289                   [Thriller, Crime, Drama]      4293.0           8.2   \n",
       "3030                   [Fantasy, Drama, Crime]      4166.0           8.2   \n",
       "1170                            [Drama, Crime]      3211.0           8.2   \n",
       "\n",
       "       Weighted_rating  \n",
       "314           8.445869  \n",
       "834           8.425439  \n",
       "10309         8.421453  \n",
       "12481         8.265477  \n",
       "2843          8.256385  \n",
       "292           8.251406  \n",
       "522           8.206639  \n",
       "23673         8.205404  \n",
       "5481          8.196055  \n",
       "2211          8.187171  \n",
       "1178          8.180076  \n",
       "1152          8.164256  \n",
       "351           8.150272  \n",
       "1154          8.132919  \n",
       "1176          8.132715  \n",
       "18465         8.125837  \n",
       "40251         8.112532  \n",
       "289           8.107234  \n",
       "3030          8.104511  \n",
       "1170          8.077459  "
      ]
     },
     "execution_count": 14,
     "metadata": {},
     "output_type": "execute_result"
    }
   ],
   "source": [
    "#Sort the values in descending order\n",
    "Reduced_movies=Reduced_movies.sort_values('Weighted_rating',ascending=False)\n",
    "Reduced_movies.head(20)"
   ]
  },
  {
   "cell_type": "code",
   "execution_count": 15,
   "metadata": {
    "execution": {
     "iopub.execute_input": "2020-09-11T21:48:46.012086Z",
     "iopub.status.busy": "2020-09-11T21:48:46.009733Z",
     "iopub.status.idle": "2020-09-11T21:48:46.014962Z",
     "shell.execute_reply": "2020-09-11T21:48:46.015520Z"
    },
    "papermill": {
     "duration": 0.053786,
     "end_time": "2020-09-11T21:48:46.015689",
     "exception": false,
     "start_time": "2020-09-11T21:48:45.961903",
     "status": "completed"
    },
    "tags": []
   },
   "outputs": [],
   "source": [
    "def simple_recommendation(data,genre='Nothing',percentile=0.9):\n",
    "    if genre != 'Nothing':\n",
    "        data=data[data['genres'].apply(lambda x: True if genre in x else False)]\n",
    "    votes=data[data['vote_count'].notnull()]['vote_count']\n",
    "    vote_average=data[data['vote_average'].notnull()]['vote_average']\n",
    "    C=np.mean(vote_average)\n",
    "    m=np.quantile(votes,percentile)\n",
    "    data=data[(data['vote_count']>m) & (data['vote_count'].notnull())]\n",
    "    data['Weighted_rating'] = (data['vote_count']/(data['vote_count']+m))*data['vote_average'] + (m/(data['vote_count']+m))*C\n",
    "    return data.sort_values('Weighted_rating',ascending=False)"
   ]
  },
  {
   "cell_type": "code",
   "execution_count": 16,
   "metadata": {
    "execution": {
     "iopub.execute_input": "2020-09-11T21:48:46.095634Z",
     "iopub.status.busy": "2020-09-11T21:48:46.094900Z",
     "iopub.status.idle": "2020-09-11T21:48:46.172640Z",
     "shell.execute_reply": "2020-09-11T21:48:46.173229Z"
    },
    "papermill": {
     "duration": 0.119139,
     "end_time": "2020-09-11T21:48:46.173418",
     "exception": false,
     "start_time": "2020-09-11T21:48:46.054279",
     "status": "completed"
    },
    "tags": []
   },
   "outputs": [
    {
     "data": {
      "text/html": [
       "<div>\n",
       "<style scoped>\n",
       "    .dataframe tbody tr th:only-of-type {\n",
       "        vertical-align: middle;\n",
       "    }\n",
       "\n",
       "    .dataframe tbody tr th {\n",
       "        vertical-align: top;\n",
       "    }\n",
       "\n",
       "    .dataframe thead th {\n",
       "        text-align: right;\n",
       "    }\n",
       "</style>\n",
       "<table border=\"1\" class=\"dataframe\">\n",
       "  <thead>\n",
       "    <tr style=\"text-align: right;\">\n",
       "      <th></th>\n",
       "      <th>title</th>\n",
       "      <th>popularity</th>\n",
       "      <th>genres</th>\n",
       "      <th>vote_count</th>\n",
       "      <th>vote_average</th>\n",
       "    </tr>\n",
       "  </thead>\n",
       "  <tbody>\n",
       "    <tr>\n",
       "      <th>314</th>\n",
       "      <td>The Shawshank Redemption</td>\n",
       "      <td>51.6454</td>\n",
       "      <td>[Drama, Crime]</td>\n",
       "      <td>8358.0</td>\n",
       "      <td>8.5</td>\n",
       "    </tr>\n",
       "    <tr>\n",
       "      <th>834</th>\n",
       "      <td>The Godfather</td>\n",
       "      <td>41.1093</td>\n",
       "      <td>[Drama, Crime]</td>\n",
       "      <td>6024.0</td>\n",
       "      <td>8.5</td>\n",
       "    </tr>\n",
       "    <tr>\n",
       "      <th>10309</th>\n",
       "      <td>Dilwale Dulhania Le Jayenge</td>\n",
       "      <td>34.457</td>\n",
       "      <td>[Comedy, Drama, Romance]</td>\n",
       "      <td>661.0</td>\n",
       "      <td>9.1</td>\n",
       "    </tr>\n",
       "    <tr>\n",
       "      <th>12481</th>\n",
       "      <td>The Dark Knight</td>\n",
       "      <td>123.167</td>\n",
       "      <td>[Drama, Action, Crime, Thriller]</td>\n",
       "      <td>12269.0</td>\n",
       "      <td>8.3</td>\n",
       "    </tr>\n",
       "    <tr>\n",
       "      <th>2843</th>\n",
       "      <td>Fight Club</td>\n",
       "      <td>63.8696</td>\n",
       "      <td>[Drama]</td>\n",
       "      <td>9678.0</td>\n",
       "      <td>8.3</td>\n",
       "    </tr>\n",
       "    <tr>\n",
       "      <th>292</th>\n",
       "      <td>Pulp Fiction</td>\n",
       "      <td>140.95</td>\n",
       "      <td>[Thriller, Crime]</td>\n",
       "      <td>8670.0</td>\n",
       "      <td>8.3</td>\n",
       "    </tr>\n",
       "    <tr>\n",
       "      <th>522</th>\n",
       "      <td>Schindler's List</td>\n",
       "      <td>41.7251</td>\n",
       "      <td>[Drama, History, War]</td>\n",
       "      <td>4436.0</td>\n",
       "      <td>8.3</td>\n",
       "    </tr>\n",
       "    <tr>\n",
       "      <th>23673</th>\n",
       "      <td>Whiplash</td>\n",
       "      <td>64.3</td>\n",
       "      <td>[Drama]</td>\n",
       "      <td>4376.0</td>\n",
       "      <td>8.3</td>\n",
       "    </tr>\n",
       "    <tr>\n",
       "      <th>5481</th>\n",
       "      <td>Spirited Away</td>\n",
       "      <td>41.0489</td>\n",
       "      <td>[Fantasy, Adventure, Animation, Family]</td>\n",
       "      <td>3968.0</td>\n",
       "      <td>8.3</td>\n",
       "    </tr>\n",
       "    <tr>\n",
       "      <th>2211</th>\n",
       "      <td>Life Is Beautiful</td>\n",
       "      <td>39.395</td>\n",
       "      <td>[Comedy, Drama]</td>\n",
       "      <td>3643.0</td>\n",
       "      <td>8.3</td>\n",
       "    </tr>\n",
       "    <tr>\n",
       "      <th>1178</th>\n",
       "      <td>The Godfather: Part II</td>\n",
       "      <td>36.6293</td>\n",
       "      <td>[Drama, Crime]</td>\n",
       "      <td>3418.0</td>\n",
       "      <td>8.3</td>\n",
       "    </tr>\n",
       "    <tr>\n",
       "      <th>1152</th>\n",
       "      <td>One Flew Over the Cuckoo's Nest</td>\n",
       "      <td>35.5296</td>\n",
       "      <td>[Drama]</td>\n",
       "      <td>3001.0</td>\n",
       "      <td>8.3</td>\n",
       "    </tr>\n",
       "    <tr>\n",
       "      <th>351</th>\n",
       "      <td>Forrest Gump</td>\n",
       "      <td>48.3072</td>\n",
       "      <td>[Comedy, Drama, Romance]</td>\n",
       "      <td>8147.0</td>\n",
       "      <td>8.2</td>\n",
       "    </tr>\n",
       "    <tr>\n",
       "      <th>1154</th>\n",
       "      <td>The Empire Strikes Back</td>\n",
       "      <td>19.471</td>\n",
       "      <td>[Adventure, Action, Science Fiction]</td>\n",
       "      <td>5998.0</td>\n",
       "      <td>8.2</td>\n",
       "    </tr>\n",
       "    <tr>\n",
       "      <th>1176</th>\n",
       "      <td>Psycho</td>\n",
       "      <td>36.8263</td>\n",
       "      <td>[Drama, Horror, Thriller]</td>\n",
       "      <td>2405.0</td>\n",
       "      <td>8.3</td>\n",
       "    </tr>\n",
       "    <tr>\n",
       "      <th>18465</th>\n",
       "      <td>The Intouchables</td>\n",
       "      <td>16.0869</td>\n",
       "      <td>[Drama, Comedy]</td>\n",
       "      <td>5410.0</td>\n",
       "      <td>8.2</td>\n",
       "    </tr>\n",
       "    <tr>\n",
       "      <th>40251</th>\n",
       "      <td>Your Name.</td>\n",
       "      <td>34.461252</td>\n",
       "      <td>[Romance, Animation, Drama]</td>\n",
       "      <td>1030.0</td>\n",
       "      <td>8.5</td>\n",
       "    </tr>\n",
       "    <tr>\n",
       "      <th>289</th>\n",
       "      <td>Leon: The Professional</td>\n",
       "      <td>20.4773</td>\n",
       "      <td>[Thriller, Crime, Drama]</td>\n",
       "      <td>4293.0</td>\n",
       "      <td>8.2</td>\n",
       "    </tr>\n",
       "    <tr>\n",
       "      <th>3030</th>\n",
       "      <td>The Green Mile</td>\n",
       "      <td>19.9668</td>\n",
       "      <td>[Fantasy, Drama, Crime]</td>\n",
       "      <td>4166.0</td>\n",
       "      <td>8.2</td>\n",
       "    </tr>\n",
       "    <tr>\n",
       "      <th>1170</th>\n",
       "      <td>GoodFellas</td>\n",
       "      <td>15.4241</td>\n",
       "      <td>[Drama, Crime]</td>\n",
       "      <td>3211.0</td>\n",
       "      <td>8.2</td>\n",
       "    </tr>\n",
       "  </tbody>\n",
       "</table>\n",
       "</div>"
      ],
      "text/plain": [
       "                                 title popularity  \\\n",
       "314           The Shawshank Redemption    51.6454   \n",
       "834                      The Godfather    41.1093   \n",
       "10309      Dilwale Dulhania Le Jayenge     34.457   \n",
       "12481                  The Dark Knight    123.167   \n",
       "2843                        Fight Club    63.8696   \n",
       "292                       Pulp Fiction     140.95   \n",
       "522                   Schindler's List    41.7251   \n",
       "23673                         Whiplash       64.3   \n",
       "5481                     Spirited Away    41.0489   \n",
       "2211                 Life Is Beautiful     39.395   \n",
       "1178            The Godfather: Part II    36.6293   \n",
       "1152   One Flew Over the Cuckoo's Nest    35.5296   \n",
       "351                       Forrest Gump    48.3072   \n",
       "1154           The Empire Strikes Back     19.471   \n",
       "1176                            Psycho    36.8263   \n",
       "18465                 The Intouchables    16.0869   \n",
       "40251                       Your Name.  34.461252   \n",
       "289             Leon: The Professional    20.4773   \n",
       "3030                    The Green Mile    19.9668   \n",
       "1170                        GoodFellas    15.4241   \n",
       "\n",
       "                                        genres  vote_count  vote_average  \n",
       "314                             [Drama, Crime]      8358.0           8.5  \n",
       "834                             [Drama, Crime]      6024.0           8.5  \n",
       "10309                 [Comedy, Drama, Romance]       661.0           9.1  \n",
       "12481         [Drama, Action, Crime, Thriller]     12269.0           8.3  \n",
       "2843                                   [Drama]      9678.0           8.3  \n",
       "292                          [Thriller, Crime]      8670.0           8.3  \n",
       "522                      [Drama, History, War]      4436.0           8.3  \n",
       "23673                                  [Drama]      4376.0           8.3  \n",
       "5481   [Fantasy, Adventure, Animation, Family]      3968.0           8.3  \n",
       "2211                           [Comedy, Drama]      3643.0           8.3  \n",
       "1178                            [Drama, Crime]      3418.0           8.3  \n",
       "1152                                   [Drama]      3001.0           8.3  \n",
       "351                   [Comedy, Drama, Romance]      8147.0           8.2  \n",
       "1154      [Adventure, Action, Science Fiction]      5998.0           8.2  \n",
       "1176                 [Drama, Horror, Thriller]      2405.0           8.3  \n",
       "18465                          [Drama, Comedy]      5410.0           8.2  \n",
       "40251              [Romance, Animation, Drama]      1030.0           8.5  \n",
       "289                   [Thriller, Crime, Drama]      4293.0           8.2  \n",
       "3030                   [Fantasy, Drama, Crime]      4166.0           8.2  \n",
       "1170                            [Drama, Crime]      3211.0           8.2  "
      ]
     },
     "execution_count": 16,
     "metadata": {},
     "output_type": "execute_result"
    }
   ],
   "source": [
    "simple_recommendation(sr,'Nothing')[['title','popularity','genres','vote_count','vote_average']].head(20)"
   ]
  },
  {
   "cell_type": "markdown",
   "metadata": {
    "papermill": {
     "duration": 0.040359,
     "end_time": "2020-09-11T21:48:46.253393",
     "exception": false,
     "start_time": "2020-09-11T21:48:46.213034",
     "status": "completed"
    },
    "tags": []
   },
   "source": [
    "# **SIMPLE RECOMMENDATION FINAL SYSTEM WITH Genre**"
   ]
  },
  {
   "cell_type": "code",
   "execution_count": 17,
   "metadata": {
    "execution": {
     "iopub.execute_input": "2020-09-11T21:48:46.336480Z",
     "iopub.status.busy": "2020-09-11T21:48:46.335757Z",
     "iopub.status.idle": "2020-09-11T21:48:46.388019Z",
     "shell.execute_reply": "2020-09-11T21:48:46.387484Z"
    },
    "papermill": {
     "duration": 0.095614,
     "end_time": "2020-09-11T21:48:46.388141",
     "exception": false,
     "start_time": "2020-09-11T21:48:46.292527",
     "status": "completed"
    },
    "tags": []
   },
   "outputs": [
    {
     "data": {
      "text/html": [
       "<div>\n",
       "<style scoped>\n",
       "    .dataframe tbody tr th:only-of-type {\n",
       "        vertical-align: middle;\n",
       "    }\n",
       "\n",
       "    .dataframe tbody tr th {\n",
       "        vertical-align: top;\n",
       "    }\n",
       "\n",
       "    .dataframe thead th {\n",
       "        text-align: right;\n",
       "    }\n",
       "</style>\n",
       "<table border=\"1\" class=\"dataframe\">\n",
       "  <thead>\n",
       "    <tr style=\"text-align: right;\">\n",
       "      <th></th>\n",
       "      <th>title</th>\n",
       "      <th>popularity</th>\n",
       "      <th>genres</th>\n",
       "      <th>vote_count</th>\n",
       "      <th>vote_average</th>\n",
       "    </tr>\n",
       "  </thead>\n",
       "  <tbody>\n",
       "    <tr>\n",
       "      <th>15480</th>\n",
       "      <td>Inception</td>\n",
       "      <td>29.1081</td>\n",
       "      <td>[Action, Thriller, Science Fiction, Mystery, A...</td>\n",
       "      <td>14075.0</td>\n",
       "      <td>8.1</td>\n",
       "    </tr>\n",
       "    <tr>\n",
       "      <th>46</th>\n",
       "      <td>Se7en</td>\n",
       "      <td>18.4574</td>\n",
       "      <td>[Crime, Mystery, Thriller]</td>\n",
       "      <td>5915.0</td>\n",
       "      <td>8.1</td>\n",
       "    </tr>\n",
       "    <tr>\n",
       "      <th>4099</th>\n",
       "      <td>Memento</td>\n",
       "      <td>15.4508</td>\n",
       "      <td>[Mystery, Thriller]</td>\n",
       "      <td>4168.0</td>\n",
       "      <td>8.1</td>\n",
       "    </tr>\n",
       "    <tr>\n",
       "      <th>11354</th>\n",
       "      <td>The Prestige</td>\n",
       "      <td>16.9456</td>\n",
       "      <td>[Drama, Mystery, Thriller]</td>\n",
       "      <td>4510.0</td>\n",
       "      <td>8.0</td>\n",
       "    </tr>\n",
       "    <tr>\n",
       "      <th>23675</th>\n",
       "      <td>Gone Girl</td>\n",
       "      <td>154.801</td>\n",
       "      <td>[Mystery, Thriller, Drama]</td>\n",
       "      <td>6023.0</td>\n",
       "      <td>7.9</td>\n",
       "    </tr>\n",
       "    <tr>\n",
       "      <th>877</th>\n",
       "      <td>Rear Window</td>\n",
       "      <td>17.9113</td>\n",
       "      <td>[Drama, Mystery, Thriller]</td>\n",
       "      <td>1531.0</td>\n",
       "      <td>8.2</td>\n",
       "    </tr>\n",
       "    <tr>\n",
       "      <th>14825</th>\n",
       "      <td>Shutter Island</td>\n",
       "      <td>15.8136</td>\n",
       "      <td>[Drama, Thriller, Mystery]</td>\n",
       "      <td>6559.0</td>\n",
       "      <td>7.8</td>\n",
       "    </tr>\n",
       "    <tr>\n",
       "      <th>897</th>\n",
       "      <td>2001: A Space Odyssey</td>\n",
       "      <td>22.4946</td>\n",
       "      <td>[Science Fiction, Mystery, Adventure]</td>\n",
       "      <td>3075.0</td>\n",
       "      <td>7.9</td>\n",
       "    </tr>\n",
       "    <tr>\n",
       "      <th>9430</th>\n",
       "      <td>Oldboy</td>\n",
       "      <td>10.6169</td>\n",
       "      <td>[Drama, Thriller, Mystery, Action]</td>\n",
       "      <td>2000.0</td>\n",
       "      <td>8.0</td>\n",
       "    </tr>\n",
       "    <tr>\n",
       "      <th>4748</th>\n",
       "      <td>Donnie Darko</td>\n",
       "      <td>18.3031</td>\n",
       "      <td>[Fantasy, Drama, Mystery]</td>\n",
       "      <td>3574.0</td>\n",
       "      <td>7.7</td>\n",
       "    </tr>\n",
       "    <tr>\n",
       "      <th>896</th>\n",
       "      <td>Citizen Kane</td>\n",
       "      <td>15.8119</td>\n",
       "      <td>[Mystery, Drama]</td>\n",
       "      <td>1244.0</td>\n",
       "      <td>8.0</td>\n",
       "    </tr>\n",
       "    <tr>\n",
       "      <th>2647</th>\n",
       "      <td>The Sixth Sense</td>\n",
       "      <td>18.4492</td>\n",
       "      <td>[Mystery, Thriller, Drama]</td>\n",
       "      <td>3223.0</td>\n",
       "      <td>7.7</td>\n",
       "    </tr>\n",
       "    <tr>\n",
       "      <th>876</th>\n",
       "      <td>Vertigo</td>\n",
       "      <td>18.2082</td>\n",
       "      <td>[Mystery, Romance, Thriller]</td>\n",
       "      <td>1162.0</td>\n",
       "      <td>8.0</td>\n",
       "    </tr>\n",
       "    <tr>\n",
       "      <th>28131</th>\n",
       "      <td>The Hateful Eight</td>\n",
       "      <td>20.3288</td>\n",
       "      <td>[Crime, Drama, Mystery, Western]</td>\n",
       "      <td>4405.0</td>\n",
       "      <td>7.6</td>\n",
       "    </tr>\n",
       "    <tr>\n",
       "      <th>2175</th>\n",
       "      <td>The Thing</td>\n",
       "      <td>16.8313</td>\n",
       "      <td>[Horror, Mystery, Science Fiction]</td>\n",
       "      <td>1629.0</td>\n",
       "      <td>7.8</td>\n",
       "    </tr>\n",
       "    <tr>\n",
       "      <th>4718</th>\n",
       "      <td>Mulholland Drive</td>\n",
       "      <td>18.1841</td>\n",
       "      <td>[Thriller, Drama, Mystery]</td>\n",
       "      <td>1517.0</td>\n",
       "      <td>7.7</td>\n",
       "    </tr>\n",
       "    <tr>\n",
       "      <th>1207</th>\n",
       "      <td>Chinatown</td>\n",
       "      <td>12.2923</td>\n",
       "      <td>[Crime, Drama, Mystery, Thriller]</td>\n",
       "      <td>939.0</td>\n",
       "      <td>7.9</td>\n",
       "    </tr>\n",
       "    <tr>\n",
       "      <th>11927</th>\n",
       "      <td>Harry Potter and the Order of the Phoenix</td>\n",
       "      <td>21.3643</td>\n",
       "      <td>[Adventure, Fantasy, Family, Mystery]</td>\n",
       "      <td>5633.0</td>\n",
       "      <td>7.4</td>\n",
       "    </tr>\n",
       "    <tr>\n",
       "      <th>1544</th>\n",
       "      <td>L.A. Confidential</td>\n",
       "      <td>10.9894</td>\n",
       "      <td>[Crime, Drama, Mystery, Thriller]</td>\n",
       "      <td>1340.0</td>\n",
       "      <td>7.7</td>\n",
       "    </tr>\n",
       "    <tr>\n",
       "      <th>881</th>\n",
       "      <td>North by Northwest</td>\n",
       "      <td>12.4104</td>\n",
       "      <td>[Mystery, Thriller]</td>\n",
       "      <td>1062.0</td>\n",
       "      <td>7.8</td>\n",
       "    </tr>\n",
       "  </tbody>\n",
       "</table>\n",
       "</div>"
      ],
      "text/plain": [
       "                                           title popularity  \\\n",
       "15480                                  Inception    29.1081   \n",
       "46                                         Se7en    18.4574   \n",
       "4099                                     Memento    15.4508   \n",
       "11354                               The Prestige    16.9456   \n",
       "23675                                  Gone Girl    154.801   \n",
       "877                                  Rear Window    17.9113   \n",
       "14825                             Shutter Island    15.8136   \n",
       "897                        2001: A Space Odyssey    22.4946   \n",
       "9430                                      Oldboy    10.6169   \n",
       "4748                                Donnie Darko    18.3031   \n",
       "896                                 Citizen Kane    15.8119   \n",
       "2647                             The Sixth Sense    18.4492   \n",
       "876                                      Vertigo    18.2082   \n",
       "28131                          The Hateful Eight    20.3288   \n",
       "2175                                   The Thing    16.8313   \n",
       "4718                            Mulholland Drive    18.1841   \n",
       "1207                                   Chinatown    12.2923   \n",
       "11927  Harry Potter and the Order of the Phoenix    21.3643   \n",
       "1544                           L.A. Confidential    10.9894   \n",
       "881                           North by Northwest    12.4104   \n",
       "\n",
       "                                                  genres  vote_count  \\\n",
       "15480  [Action, Thriller, Science Fiction, Mystery, A...     14075.0   \n",
       "46                            [Crime, Mystery, Thriller]      5915.0   \n",
       "4099                                 [Mystery, Thriller]      4168.0   \n",
       "11354                         [Drama, Mystery, Thriller]      4510.0   \n",
       "23675                         [Mystery, Thriller, Drama]      6023.0   \n",
       "877                           [Drama, Mystery, Thriller]      1531.0   \n",
       "14825                         [Drama, Thriller, Mystery]      6559.0   \n",
       "897                [Science Fiction, Mystery, Adventure]      3075.0   \n",
       "9430                  [Drama, Thriller, Mystery, Action]      2000.0   \n",
       "4748                           [Fantasy, Drama, Mystery]      3574.0   \n",
       "896                                     [Mystery, Drama]      1244.0   \n",
       "2647                          [Mystery, Thriller, Drama]      3223.0   \n",
       "876                         [Mystery, Romance, Thriller]      1162.0   \n",
       "28131                   [Crime, Drama, Mystery, Western]      4405.0   \n",
       "2175                  [Horror, Mystery, Science Fiction]      1629.0   \n",
       "4718                          [Thriller, Drama, Mystery]      1517.0   \n",
       "1207                   [Crime, Drama, Mystery, Thriller]       939.0   \n",
       "11927              [Adventure, Fantasy, Family, Mystery]      5633.0   \n",
       "1544                   [Crime, Drama, Mystery, Thriller]      1340.0   \n",
       "881                                  [Mystery, Thriller]      1062.0   \n",
       "\n",
       "       vote_average  \n",
       "15480           8.1  \n",
       "46              8.1  \n",
       "4099            8.1  \n",
       "11354           8.0  \n",
       "23675           7.9  \n",
       "877             8.2  \n",
       "14825           7.8  \n",
       "897             7.9  \n",
       "9430            8.0  \n",
       "4748            7.7  \n",
       "896             8.0  \n",
       "2647            7.7  \n",
       "876             8.0  \n",
       "28131           7.6  \n",
       "2175            7.8  \n",
       "4718            7.7  \n",
       "1207            7.9  \n",
       "11927           7.4  \n",
       "1544            7.7  \n",
       "881             7.8  "
      ]
     },
     "execution_count": 17,
     "metadata": {},
     "output_type": "execute_result"
    }
   ],
   "source": [
    "simple_recommendation(sr,'Mystery')[['title','popularity','genres','vote_count','vote_average']].head(20)"
   ]
  },
  {
   "cell_type": "markdown",
   "metadata": {
    "papermill": {
     "duration": 0.038999,
     "end_time": "2020-09-11T21:48:46.465919",
     "exception": false,
     "start_time": "2020-09-11T21:48:46.426920",
     "status": "completed"
    },
    "tags": []
   },
   "source": [
    "# **CONTENT BASED RECOMMENDER**"
   ]
  },
  {
   "cell_type": "markdown",
   "metadata": {
    "papermill": {
     "duration": 0.042846,
     "end_time": "2020-09-11T21:48:46.550373",
     "exception": false,
     "start_time": "2020-09-11T21:48:46.507527",
     "status": "completed"
    },
    "tags": []
   },
   "source": [
    "The content of the movie (overview, cast, crew, keyword, tagline etc) is used to find its similarity with other movies. Then the movies that are most likely to be similar are recommended.\n",
    "\n",
    "\n",
    "\n",
    "**MOVIE DESCRIPTION/PLOT BASED RECOMMENDER**"
   ]
  },
  {
   "cell_type": "code",
   "execution_count": 18,
   "metadata": {
    "execution": {
     "iopub.execute_input": "2020-09-11T21:48:46.639465Z",
     "iopub.status.busy": "2020-09-11T21:48:46.638570Z",
     "iopub.status.idle": "2020-09-11T21:48:46.643572Z",
     "shell.execute_reply": "2020-09-11T21:48:46.643004Z"
    },
    "papermill": {
     "duration": 0.051728,
     "end_time": "2020-09-11T21:48:46.643685",
     "exception": false,
     "start_time": "2020-09-11T21:48:46.591957",
     "status": "completed"
    },
    "tags": []
   },
   "outputs": [
    {
     "data": {
      "text/plain": [
       "Index(['adult', 'belongs_to_collection', 'budget', 'genres', 'homepage', 'id',\n",
       "       'imdb_id', 'original_language', 'original_title', 'overview',\n",
       "       'popularity', 'poster_path', 'production_companies',\n",
       "       'production_countries', 'release_date', 'revenue', 'runtime',\n",
       "       'spoken_languages', 'status', 'tagline', 'title', 'video',\n",
       "       'vote_average', 'vote_count'],\n",
       "      dtype='object')"
      ]
     },
     "execution_count": 18,
     "metadata": {},
     "output_type": "execute_result"
    }
   ],
   "source": [
    "sr.columns"
   ]
  },
  {
   "cell_type": "markdown",
   "metadata": {
    "papermill": {
     "duration": 0.040059,
     "end_time": "2020-09-11T21:48:46.722952",
     "exception": false,
     "start_time": "2020-09-11T21:48:46.682893",
     "status": "completed"
    },
    "tags": []
   },
   "source": [
    "# # As the computation is very higher if we use all 40,000 data, so we will take percentile to be 80% from the previous Recommeder and then use it here for the Description based Recommender."
   ]
  },
  {
   "cell_type": "code",
   "execution_count": 19,
   "metadata": {
    "execution": {
     "iopub.execute_input": "2020-09-11T21:48:46.809872Z",
     "iopub.status.busy": "2020-09-11T21:48:46.809167Z",
     "iopub.status.idle": "2020-09-11T21:48:46.890297Z",
     "shell.execute_reply": "2020-09-11T21:48:46.890849Z"
    },
    "papermill": {
     "duration": 0.128473,
     "end_time": "2020-09-11T21:48:46.891036",
     "exception": false,
     "start_time": "2020-09-11T21:48:46.762563",
     "status": "completed"
    },
    "tags": []
   },
   "outputs": [],
   "source": [
    "sample=simple_recommendation(sr,'Nothing',0.70)\n",
    "sample['overview']=sample['overview'].fillna('')\n",
    "sample['tagline']=sample['tagline'].fillna('')\n",
    "sample['description']=(sample['tagline']+' '+sample['overview']).fillna('')"
   ]
  },
  {
   "cell_type": "code",
   "execution_count": 20,
   "metadata": {
    "execution": {
     "iopub.execute_input": "2020-09-11T21:48:46.977637Z",
     "iopub.status.busy": "2020-09-11T21:48:46.976837Z",
     "iopub.status.idle": "2020-09-11T21:48:50.476684Z",
     "shell.execute_reply": "2020-09-11T21:48:50.477289Z"
    },
    "papermill": {
     "duration": 3.545037,
     "end_time": "2020-09-11T21:48:50.477473",
     "exception": false,
     "start_time": "2020-09-11T21:48:46.932436",
     "status": "completed"
    },
    "tags": []
   },
   "outputs": [
    {
     "data": {
      "text/plain": [
       "(13498, 367549)"
      ]
     },
     "execution_count": 20,
     "metadata": {},
     "output_type": "execute_result"
    }
   ],
   "source": [
    "vector=TfidfVectorizer(stop_words='english',analyzer='word',ngram_range=(1,2))\n",
    "matrix=vector.fit_transform(sample['description'])\n",
    "matrix.shape"
   ]
  },
  {
   "cell_type": "code",
   "execution_count": 21,
   "metadata": {
    "execution": {
     "iopub.execute_input": "2020-09-11T21:48:50.561630Z",
     "iopub.status.busy": "2020-09-11T21:48:50.560827Z",
     "iopub.status.idle": "2020-09-11T21:48:54.097381Z",
     "shell.execute_reply": "2020-09-11T21:48:54.097920Z"
    },
    "papermill": {
     "duration": 3.580515,
     "end_time": "2020-09-11T21:48:54.098088",
     "exception": false,
     "start_time": "2020-09-11T21:48:50.517573",
     "status": "completed"
    },
    "tags": []
   },
   "outputs": [],
   "source": [
    "cosine = linear_kernel(matrix, matrix)"
   ]
  },
  {
   "cell_type": "code",
   "execution_count": 22,
   "metadata": {
    "execution": {
     "iopub.execute_input": "2020-09-11T21:48:54.179571Z",
     "iopub.status.busy": "2020-09-11T21:48:54.178843Z",
     "iopub.status.idle": "2020-09-11T21:48:54.191161Z",
     "shell.execute_reply": "2020-09-11T21:48:54.190449Z"
    },
    "papermill": {
     "duration": 0.054361,
     "end_time": "2020-09-11T21:48:54.191279",
     "exception": false,
     "start_time": "2020-09-11T21:48:54.136918",
     "status": "completed"
    },
    "tags": []
   },
   "outputs": [],
   "source": [
    "data=sample.reset_index()\n",
    "titles=data['title']\n",
    "indices = pd.Series(data.index, index=data['title'])"
   ]
  },
  {
   "cell_type": "code",
   "execution_count": 23,
   "metadata": {
    "execution": {
     "iopub.execute_input": "2020-09-11T21:48:54.281044Z",
     "iopub.status.busy": "2020-09-11T21:48:54.280087Z",
     "iopub.status.idle": "2020-09-11T21:48:54.283758Z",
     "shell.execute_reply": "2020-09-11T21:48:54.284294Z"
    },
    "papermill": {
     "duration": 0.052948,
     "end_time": "2020-09-11T21:48:54.284470",
     "exception": false,
     "start_time": "2020-09-11T21:48:54.231522",
     "status": "completed"
    },
    "tags": []
   },
   "outputs": [],
   "source": [
    "def content_based_recommendation(title,indices=indices,titles=titles,cosine=cosine):\n",
    "    idx=indices[title]\n",
    "    sim_scores = list(enumerate(cosine[idx]))\n",
    "    sim_scores = sorted(sim_scores, key=lambda x: x[1], reverse=True)\n",
    "    movie_indices=[i[0] for i in sim_scores[1:26]]\n",
    "    return titles.iloc[movie_indices]"
   ]
  },
  {
   "cell_type": "code",
   "execution_count": 24,
   "metadata": {
    "execution": {
     "iopub.execute_input": "2020-09-11T21:48:54.384939Z",
     "iopub.status.busy": "2020-09-11T21:48:54.383926Z",
     "iopub.status.idle": "2020-09-11T21:48:54.429544Z",
     "shell.execute_reply": "2020-09-11T21:48:54.428608Z"
    },
    "papermill": {
     "duration": 0.094764,
     "end_time": "2020-09-11T21:48:54.429740",
     "exception": false,
     "start_time": "2020-09-11T21:48:54.334976",
     "status": "completed"
    },
    "tags": []
   },
   "outputs": [
    {
     "data": {
      "text/plain": [
       "3696                                                Cypher\n",
       "10191                                            The Brave\n",
       "4642                                           Renaissance\n",
       "11406                                             Hollywoo\n",
       "13079                                     The Monkey's Paw\n",
       "3586                                             Lone Star\n",
       "13034                                             Altitude\n",
       "1392                                                 Crumb\n",
       "9560                                                 House\n",
       "278                       What Ever Happened to Baby Jane?\n",
       "2562                                      The Pink Panther\n",
       "8839                                                  Cobb\n",
       "7114                                               The Den\n",
       "10381                                           Stone Cold\n",
       "12825                                           Shadow Man\n",
       "10376                                             Vendetta\n",
       "13228                                             Cyborg 2\n",
       "15                             Once Upon a Time in America\n",
       "2545                                       Pitch Perfect 2\n",
       "2365     Puella Magi Madoka Magica the Movie Part I: Be...\n",
       "10004                                     Thick as Thieves\n",
       "7345                                          Tango & Cash\n",
       "1373                    Mission: Impossible - Rogue Nation\n",
       "12441                                               Stolen\n",
       "2183                                   The Next Three Days\n",
       "Name: title, dtype: object"
      ]
     },
     "execution_count": 24,
     "metadata": {},
     "output_type": "execute_result"
    }
   ],
   "source": [
    "content_based_recommendation('Inception')"
   ]
  },
  {
   "cell_type": "markdown",
   "metadata": {
    "papermill": {
     "duration": 0.042865,
     "end_time": "2020-09-11T21:48:54.522997",
     "exception": false,
     "start_time": "2020-09-11T21:48:54.480132",
     "status": "completed"
    },
    "tags": []
   },
   "source": [
    "# # As our recommender only recommends based on the Plot or description of the movie, but many of us prefers movies based on actors or other crew members."
   ]
  },
  {
   "cell_type": "markdown",
   "metadata": {
    "papermill": {
     "duration": 0.03991,
     "end_time": "2020-09-11T21:48:54.604494",
     "exception": false,
     "start_time": "2020-09-11T21:48:54.564584",
     "status": "completed"
    },
    "tags": []
   },
   "source": [
    "So, the next one will be based on Content based recommendations based on directors, actors and others"
   ]
  },
  {
   "cell_type": "code",
   "execution_count": 25,
   "metadata": {
    "execution": {
     "iopub.execute_input": "2020-09-11T21:48:54.697859Z",
     "iopub.status.busy": "2020-09-11T21:48:54.697154Z",
     "iopub.status.idle": "2020-09-11T21:48:56.724277Z",
     "shell.execute_reply": "2020-09-11T21:48:56.723507Z"
    },
    "papermill": {
     "duration": 2.07889,
     "end_time": "2020-09-11T21:48:56.724434",
     "exception": false,
     "start_time": "2020-09-11T21:48:54.645544",
     "status": "completed"
    },
    "tags": []
   },
   "outputs": [],
   "source": [
    "keyword=pd.read_csv('/kaggle/input/the-movies-dataset/keywords.csv')\n",
    "credits=pd.read_csv('/kaggle/input/the-movies-dataset/credits.csv')\n",
    "keyword['id'] = keyword['id'].astype('int')\n",
    "credits['id'] = credits['id'].astype('int')\n",
    "sr['id'] = sr['id'].astype('int')\n",
    "sr = sr.merge(credits, on='id')\n",
    "sr = sr.merge(keyword, on='id')\n"
   ]
  },
  {
   "cell_type": "code",
   "execution_count": 26,
   "metadata": {
    "execution": {
     "iopub.execute_input": "2020-09-11T21:48:56.810141Z",
     "iopub.status.busy": "2020-09-11T21:48:56.809405Z",
     "iopub.status.idle": "2020-09-11T21:48:56.931895Z",
     "shell.execute_reply": "2020-09-11T21:48:56.931248Z"
    },
    "papermill": {
     "duration": 0.167127,
     "end_time": "2020-09-11T21:48:56.932019",
     "exception": false,
     "start_time": "2020-09-11T21:48:56.764892",
     "status": "completed"
    },
    "tags": []
   },
   "outputs": [
    {
     "data": {
      "text/plain": [
       "Index(['adult', 'belongs_to_collection', 'budget', 'genres', 'homepage', 'id',\n",
       "       'imdb_id', 'original_language', 'original_title', 'overview',\n",
       "       'popularity', 'poster_path', 'production_companies',\n",
       "       'production_countries', 'release_date', 'revenue', 'runtime',\n",
       "       'spoken_languages', 'status', 'tagline', 'title', 'video',\n",
       "       'vote_average', 'vote_count', 'cast', 'crew', 'keywords',\n",
       "       'Weighted_rating'],\n",
       "      dtype='object')"
      ]
     },
     "execution_count": 26,
     "metadata": {},
     "output_type": "execute_result"
    }
   ],
   "source": [
    "sample=simple_recommendation(sr,'Nothing',0.70)\n",
    "sample.columns"
   ]
  },
  {
   "cell_type": "code",
   "execution_count": 27,
   "metadata": {
    "execution": {
     "iopub.execute_input": "2020-09-11T21:48:57.055881Z",
     "iopub.status.busy": "2020-09-11T21:48:57.033709Z",
     "iopub.status.idle": "2020-09-11T21:49:19.796928Z",
     "shell.execute_reply": "2020-09-11T21:49:19.796216Z"
    },
    "papermill": {
     "duration": 22.823262,
     "end_time": "2020-09-11T21:49:19.797051",
     "exception": false,
     "start_time": "2020-09-11T21:48:56.973789",
     "status": "completed"
    },
    "tags": []
   },
   "outputs": [],
   "source": [
    "sample['cast'] = sample['cast'].apply(literal_eval)\n",
    "sample['crew'] = sample['crew'].apply(literal_eval)\n",
    "sample['keywords'] = sample['keywords'].apply(literal_eval)"
   ]
  },
  {
   "cell_type": "code",
   "execution_count": 28,
   "metadata": {
    "execution": {
     "iopub.execute_input": "2020-09-11T21:49:19.884928Z",
     "iopub.status.busy": "2020-09-11T21:49:19.884256Z",
     "iopub.status.idle": "2020-09-11T21:49:19.887426Z",
     "shell.execute_reply": "2020-09-11T21:49:19.886728Z"
    },
    "papermill": {
     "duration": 0.048125,
     "end_time": "2020-09-11T21:49:19.887548",
     "exception": false,
     "start_time": "2020-09-11T21:49:19.839423",
     "status": "completed"
    },
    "tags": []
   },
   "outputs": [],
   "source": [
    "#one of the important crew members we preferred for watching the film are DIRECTORS"
   ]
  },
  {
   "cell_type": "code",
   "execution_count": 29,
   "metadata": {
    "execution": {
     "iopub.execute_input": "2020-09-11T21:49:19.981464Z",
     "iopub.status.busy": "2020-09-11T21:49:19.980287Z",
     "iopub.status.idle": "2020-09-11T21:49:19.982551Z",
     "shell.execute_reply": "2020-09-11T21:49:19.983168Z"
    },
    "papermill": {
     "duration": 0.053028,
     "end_time": "2020-09-11T21:49:19.983323",
     "exception": false,
     "start_time": "2020-09-11T21:49:19.930295",
     "status": "completed"
    },
    "tags": []
   },
   "outputs": [],
   "source": [
    "def diro(x):\n",
    "    for i in x:\n",
    "        if i['job']=='Director':\n",
    "            return i['name']\n",
    "    return ''\n",
    "\n",
    "def get_list(x):\n",
    "    if isinstance(x, list):\n",
    "        names = [i['name'] for i in x]\n",
    "        if len(names) > 3:\n",
    "            names = names[:3]\n",
    "        return names\n",
    "    return []"
   ]
  },
  {
   "cell_type": "code",
   "execution_count": 30,
   "metadata": {
    "execution": {
     "iopub.execute_input": "2020-09-11T21:49:20.072689Z",
     "iopub.status.busy": "2020-09-11T21:49:20.071645Z",
     "iopub.status.idle": "2020-09-11T21:49:20.344802Z",
     "shell.execute_reply": "2020-09-11T21:49:20.342786Z"
    },
    "papermill": {
     "duration": 0.319056,
     "end_time": "2020-09-11T21:49:20.344946",
     "exception": false,
     "start_time": "2020-09-11T21:49:20.025890",
     "status": "completed"
    },
    "tags": []
   },
   "outputs": [],
   "source": [
    "sample['director']=sample['crew'].apply(diro)\n",
    "sample['cast']=sample['cast'].apply(get_list)\n",
    "sample['keywords']=sample['keywords'].apply(get_list)"
   ]
  },
  {
   "cell_type": "code",
   "execution_count": 31,
   "metadata": {
    "execution": {
     "iopub.execute_input": "2020-09-11T21:49:20.439141Z",
     "iopub.status.busy": "2020-09-11T21:49:20.438480Z",
     "iopub.status.idle": "2020-09-11T21:49:20.741832Z",
     "shell.execute_reply": "2020-09-11T21:49:20.742392Z"
    },
    "papermill": {
     "duration": 0.355379,
     "end_time": "2020-09-11T21:49:20.742564",
     "exception": false,
     "start_time": "2020-09-11T21:49:20.387185",
     "status": "completed"
    },
    "tags": []
   },
   "outputs": [],
   "source": [
    "data = sample\n",
    "def clean_data(x):\n",
    "    if isinstance(x,list):\n",
    "        return [str.lower(i.replace(\" \",\"\")) for i in x]\n",
    "    else:\n",
    "        if isinstance(x,str):\n",
    "            #the director is multiplied with 3 to increase its weight as there are 3 actors.\n",
    "            return [str.lower(x.replace(\" \",\"\")) for i in range(3)] \n",
    "\n",
    "features=['director','keywords','cast','genres']\n",
    "for i in features:\n",
    "    data[i]=data[i].apply(clean_data)\n",
    "        "
   ]
  },
  {
   "cell_type": "code",
   "execution_count": 32,
   "metadata": {
    "execution": {
     "iopub.execute_input": "2020-09-11T21:49:20.838244Z",
     "iopub.status.busy": "2020-09-11T21:49:20.832950Z",
     "iopub.status.idle": "2020-09-11T21:49:20.895394Z",
     "shell.execute_reply": "2020-09-11T21:49:20.894826Z"
    },
    "papermill": {
     "duration": 0.111484,
     "end_time": "2020-09-11T21:49:20.895506",
     "exception": false,
     "start_time": "2020-09-11T21:49:20.784022",
     "status": "completed"
    },
    "tags": []
   },
   "outputs": [
    {
     "data": {
      "text/html": [
       "<div>\n",
       "<style scoped>\n",
       "    .dataframe tbody tr th:only-of-type {\n",
       "        vertical-align: middle;\n",
       "    }\n",
       "\n",
       "    .dataframe tbody tr th {\n",
       "        vertical-align: top;\n",
       "    }\n",
       "\n",
       "    .dataframe thead th {\n",
       "        text-align: right;\n",
       "    }\n",
       "</style>\n",
       "<table border=\"1\" class=\"dataframe\">\n",
       "  <thead>\n",
       "    <tr style=\"text-align: right;\">\n",
       "      <th></th>\n",
       "      <th>director</th>\n",
       "      <th>keywords</th>\n",
       "      <th>cast</th>\n",
       "      <th>genres</th>\n",
       "      <th>All</th>\n",
       "    </tr>\n",
       "  </thead>\n",
       "  <tbody>\n",
       "    <tr>\n",
       "      <th>10397</th>\n",
       "      <td>[adityachopra, adityachopra, adityachopra]</td>\n",
       "      <td>[musical]</td>\n",
       "      <td>[shahrukhkhan, kajol, amrishpuri]</td>\n",
       "      <td>[comedy, drama, romance]</td>\n",
       "      <td>adityachopra adityachopra adityachopra musical...</td>\n",
       "    </tr>\n",
       "    <tr>\n",
       "      <th>314</th>\n",
       "      <td>[frankdarabont, frankdarabont, frankdarabont]</td>\n",
       "      <td>[prison, corruption, policebrutality]</td>\n",
       "      <td>[timrobbins, morganfreeman, bobgunton]</td>\n",
       "      <td>[drama, crime]</td>\n",
       "      <td>frankdarabont frankdarabont frankdarabont pris...</td>\n",
       "    </tr>\n",
       "    <tr>\n",
       "      <th>841</th>\n",
       "      <td>[francisfordcoppola, francisfordcoppola, franc...</td>\n",
       "      <td>[italy, loveatfirstsight, lossoffather]</td>\n",
       "      <td>[marlonbrando, alpacino, jamescaan]</td>\n",
       "      <td>[drama, crime]</td>\n",
       "      <td>francisfordcoppola francisfordcoppola francisf...</td>\n",
       "    </tr>\n",
       "    <tr>\n",
       "      <th>41418</th>\n",
       "      <td>[makotoshinkai, makotoshinkai, makotoshinkai]</td>\n",
       "      <td>[supernatural, romance, school]</td>\n",
       "      <td>[ryunosukekamiki, monekamishiraishi, masaminag...</td>\n",
       "      <td>[romance, animation, drama]</td>\n",
       "      <td>makotoshinkai makotoshinkai makotoshinkai supe...</td>\n",
       "    </tr>\n",
       "    <tr>\n",
       "      <th>40253</th>\n",
       "      <td>[alastairfothergill, alastairfothergill, alast...</td>\n",
       "      <td>[miniseries, greatcinematpgraphy]</td>\n",
       "      <td>[davidattenborough]</td>\n",
       "      <td>[documentary]</td>\n",
       "      <td>alastairfothergill alastairfothergill alastair...</td>\n",
       "    </tr>\n",
       "  </tbody>\n",
       "</table>\n",
       "</div>"
      ],
      "text/plain": [
       "                                                director  \\\n",
       "10397         [adityachopra, adityachopra, adityachopra]   \n",
       "314        [frankdarabont, frankdarabont, frankdarabont]   \n",
       "841    [francisfordcoppola, francisfordcoppola, franc...   \n",
       "41418      [makotoshinkai, makotoshinkai, makotoshinkai]   \n",
       "40253  [alastairfothergill, alastairfothergill, alast...   \n",
       "\n",
       "                                      keywords  \\\n",
       "10397                                [musical]   \n",
       "314      [prison, corruption, policebrutality]   \n",
       "841    [italy, loveatfirstsight, lossoffather]   \n",
       "41418          [supernatural, romance, school]   \n",
       "40253        [miniseries, greatcinematpgraphy]   \n",
       "\n",
       "                                                    cast  \\\n",
       "10397                  [shahrukhkhan, kajol, amrishpuri]   \n",
       "314               [timrobbins, morganfreeman, bobgunton]   \n",
       "841                  [marlonbrando, alpacino, jamescaan]   \n",
       "41418  [ryunosukekamiki, monekamishiraishi, masaminag...   \n",
       "40253                                [davidattenborough]   \n",
       "\n",
       "                            genres  \\\n",
       "10397     [comedy, drama, romance]   \n",
       "314                 [drama, crime]   \n",
       "841                 [drama, crime]   \n",
       "41418  [romance, animation, drama]   \n",
       "40253                [documentary]   \n",
       "\n",
       "                                                     All  \n",
       "10397  adityachopra adityachopra adityachopra musical...  \n",
       "314    frankdarabont frankdarabont frankdarabont pris...  \n",
       "841    francisfordcoppola francisfordcoppola francisf...  \n",
       "41418  makotoshinkai makotoshinkai makotoshinkai supe...  \n",
       "40253  alastairfothergill alastairfothergill alastair...  "
      ]
     },
     "execution_count": 32,
     "metadata": {},
     "output_type": "execute_result"
    }
   ],
   "source": [
    "data['All']=(data['director'] + data['keywords'] + data['cast'] + data['genres']).apply(lambda x: ' '.join(x))\n",
    "data.head()[features+['All']]"
   ]
  },
  {
   "cell_type": "code",
   "execution_count": 33,
   "metadata": {
    "execution": {
     "iopub.execute_input": "2020-09-11T21:49:20.994974Z",
     "iopub.status.busy": "2020-09-11T21:49:20.994176Z",
     "iopub.status.idle": "2020-09-11T21:49:21.990701Z",
     "shell.execute_reply": "2020-09-11T21:49:21.989958Z"
    },
    "papermill": {
     "duration": 1.053373,
     "end_time": "2020-09-11T21:49:21.990834",
     "exception": false,
     "start_time": "2020-09-11T21:49:20.937461",
     "status": "completed"
    },
    "tags": []
   },
   "outputs": [
    {
     "data": {
      "text/plain": [
       "(13728, 113432)"
      ]
     },
     "execution_count": 33,
     "metadata": {},
     "output_type": "execute_result"
    }
   ],
   "source": [
    "count = CountVectorizer(analyzer='word',ngram_range=(1, 2),min_df=0, stop_words='english')\n",
    "matrix = count.fit_transform(data['All'])\n",
    "matrix.shape"
   ]
  },
  {
   "cell_type": "code",
   "execution_count": 34,
   "metadata": {
    "execution": {
     "iopub.execute_input": "2020-09-11T21:49:22.087933Z",
     "iopub.status.busy": "2020-09-11T21:49:22.086887Z",
     "iopub.status.idle": "2020-09-11T21:49:25.777813Z",
     "shell.execute_reply": "2020-09-11T21:49:25.777251Z"
    },
    "papermill": {
     "duration": 3.742579,
     "end_time": "2020-09-11T21:49:25.777936",
     "exception": false,
     "start_time": "2020-09-11T21:49:22.035357",
     "status": "completed"
    },
    "tags": []
   },
   "outputs": [],
   "source": [
    "cosine = cosine_similarity(matrix, matrix)\n",
    "data = data.reset_index()\n",
    "titles=data['title']\n",
    "indices = pd.Series(data.index, index=data['title'])"
   ]
  },
  {
   "cell_type": "code",
   "execution_count": 35,
   "metadata": {
    "execution": {
     "iopub.execute_input": "2020-09-11T21:49:25.898665Z",
     "iopub.status.busy": "2020-09-11T21:49:25.896422Z",
     "iopub.status.idle": "2020-09-11T21:49:25.902671Z",
     "shell.execute_reply": "2020-09-11T21:49:25.902078Z"
    },
    "papermill": {
     "duration": 0.079855,
     "end_time": "2020-09-11T21:49:25.902794",
     "exception": false,
     "start_time": "2020-09-11T21:49:25.822939",
     "status": "completed"
    },
    "tags": []
   },
   "outputs": [
    {
     "data": {
      "text/plain": [
       "330        The Dark Knight Rises\n",
       "467                Batman Begins\n",
       "66                  The Prestige\n",
       "1357                   Following\n",
       "4863                   Doodlebug\n",
       "4865                   Doodlebug\n",
       "2623                    Insomnia\n",
       "487                      Dunkirk\n",
       "35                  Interstellar\n",
       "41                       Memento\n",
       "34                     Inception\n",
       "9652     Kidnapping Mr. Heineken\n",
       "3114                    Thursday\n",
       "4724                The Gauntlet\n",
       "8588                      Twelve\n",
       "11268           Hitman: Agent 47\n",
       "1373                    Kick-Ass\n",
       "2659        The Long Good Friday\n",
       "2885                Metro Manila\n",
       "3431                 Harry Brown\n",
       "6752                     Hackers\n",
       "7570                   Initial D\n",
       "8807                      Hitman\n",
       "3859           Kill the Irishman\n",
       "4066        A Better Tomorrow II\n",
       "Name: title, dtype: object"
      ]
     },
     "execution_count": 35,
     "metadata": {},
     "output_type": "execute_result"
    }
   ],
   "source": [
    "content_based_recommendation('The Dark Knight',indices,titles,cosine)"
   ]
  },
  {
   "cell_type": "code",
   "execution_count": 36,
   "metadata": {
    "execution": {
     "iopub.execute_input": "2020-09-11T21:49:26.020281Z",
     "iopub.status.busy": "2020-09-11T21:49:26.019193Z",
     "iopub.status.idle": "2020-09-11T21:49:26.023761Z",
     "shell.execute_reply": "2020-09-11T21:49:26.024225Z"
    },
    "papermill": {
     "duration": 0.076641,
     "end_time": "2020-09-11T21:49:26.024390",
     "exception": false,
     "start_time": "2020-09-11T21:49:25.947749",
     "status": "completed"
    },
    "tags": []
   },
   "outputs": [
    {
     "data": {
      "text/plain": [
       "4863                                 Doodlebug\n",
       "4865                                 Doodlebug\n",
       "35                                Interstellar\n",
       "41                                     Memento\n",
       "66                                The Prestige\n",
       "2623                                  Insomnia\n",
       "5                              The Dark Knight\n",
       "330                      The Dark Knight Rises\n",
       "467                              Batman Begins\n",
       "1357                                 Following\n",
       "487                                    Dunkirk\n",
       "8760                                   Don Jon\n",
       "3601                                    Looper\n",
       "9313                       L: Change the World\n",
       "1397                           Minority Report\n",
       "10116    Sky Captain and the World of Tomorrow\n",
       "925                Mad Max 2: The Road Warrior\n",
       "1515                                 The Abyss\n",
       "3102                         Starship Troopers\n",
       "4254                                Armageddon\n",
       "6445                  X-Men Origins: Wolverine\n",
       "6583                              Premium Rush\n",
       "8765                          I Am Number Four\n",
       "10877              G.I. Joe: The Rise of Cobra\n",
       "12709                            Green Lantern\n",
       "Name: title, dtype: object"
      ]
     },
     "execution_count": 36,
     "metadata": {},
     "output_type": "execute_result"
    }
   ],
   "source": [
    "content_based_recommendation('Inception',indices,titles,cosine)"
   ]
  },
  {
   "cell_type": "markdown",
   "metadata": {
    "papermill": {
     "duration": 0.049428,
     "end_time": "2020-09-11T21:49:26.118867",
     "exception": false,
     "start_time": "2020-09-11T21:49:26.069439",
     "status": "completed"
    },
    "tags": []
   },
   "source": [
    "**As, we can see the recommendations are very good based on the content which invloves the directors, actors and others.**"
   ]
  },
  {
   "cell_type": "code",
   "execution_count": null,
   "metadata": {
    "papermill": {
     "duration": 0.04461,
     "end_time": "2020-09-11T21:49:26.210120",
     "exception": false,
     "start_time": "2020-09-11T21:49:26.165510",
     "status": "completed"
    },
    "tags": []
   },
   "outputs": [],
   "source": []
  }
 ],
 "metadata": {
  "kernelspec": {
   "display_name": "Python 3",
   "language": "python",
   "name": "python3"
  },
  "language_info": {
   "codemirror_mode": {
    "name": "ipython",
    "version": 3
   },
   "file_extension": ".py",
   "mimetype": "text/x-python",
   "name": "python",
   "nbconvert_exporter": "python",
   "pygments_lexer": "ipython3",
   "version": "3.7.6"
  },
  "papermill": {
   "duration": 51.975449,
   "end_time": "2020-09-11T21:49:26.463732",
   "environment_variables": {},
   "exception": null,
   "input_path": "__notebook__.ipynb",
   "output_path": "__notebook__.ipynb",
   "parameters": {},
   "start_time": "2020-09-11T21:48:34.488283",
   "version": "2.1.0"
  }
 },
 "nbformat": 4,
 "nbformat_minor": 4
}
